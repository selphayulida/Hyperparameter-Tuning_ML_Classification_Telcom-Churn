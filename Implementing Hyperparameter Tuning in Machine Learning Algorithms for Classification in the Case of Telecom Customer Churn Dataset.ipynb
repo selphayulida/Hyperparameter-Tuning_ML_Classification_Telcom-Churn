{
 "cells": [
  {
   "cell_type": "markdown",
   "id": "e9db23b3",
   "metadata": {},
   "source": [
    "# Implementing Hyperparameter Tuning in Machine Learning Algorithms for Classification in the Case of Telecom Customer Churn Dataset"
   ]
  },
  {
   "cell_type": "markdown",
   "id": "d9562b07",
   "metadata": {},
   "source": [
    "**A lil bit INTRODUCTION**\n",
    "\n",
    "Hi, I'm Selpha Yulida, a data enthusiast that just started my data learning journey through joining Dibimbing bootcamp Data Science Batch 13. This project is about learning hyperparameter tuning in supervised machine learning (classification) model. We use case in telecom customer churn dataset, that got during the bootcamp. This version of the dataset is slightly different from the dataset available on kaggle. \n",
    "\n",
    "This dataset consists of 7046 rows and 12 columns. In this project, we will perform some machine learning algorithms for creating classification the churn of customer in telecom company by implementing hyperparameter tuning to get the best hyperparameter for modeling purpose.\n",
    "\n",
    "\n",
    "**Overall Steps**\n",
    "1. Import all Libraries & Load the Dataset\n",
    "2. Basic Data Cleaning (Missing Values & Duplicated Values)\n",
    "3. Encode Target Variable (Label Encoding)\n",
    "4. Split Data (Train and test)\n",
    "5. Multicolliniearity Study (Feature Selection)\n",
    "6. Handle Categorical Data (Label & One Hot Encoding) - Apply for both train and test data\n",
    "7. Modelling - Implementing Hyperparameter Tuning\n",
    "8. Evaluation on Test Data\n",
    "\n",
    "\n",
    "In this porject we will perform some popular classification ML algortihm such as:\n",
    "- K-Nearest Neighbor (KNN)\n",
    "- Random Forest Classifier\n",
    "- Logistic Regression\n",
    "- Decision Tree\n",
    "- Naive Bayes\n",
    "\n",
    "We didn't implement Support Vector Machines (SVM) due to technical issue :(\n",
    "\n",
    "Please kindly connect to my LinkedIn https://www.linkedin.com/in/selphayulida/ and visit my Github https://github.com/selphayulida/\n",
    "\n",
    "Thank You in Advance!\n",
    "\n",
    "**Please kindly note that the highlight of this project is implementing hyperparameter tuning, so there may be some steps missed or required to be optimized**"
   ]
  },
  {
   "cell_type": "markdown",
   "id": "65dd92e9",
   "metadata": {},
   "source": [
    "# Import Libraries"
   ]
  },
  {
   "cell_type": "code",
   "execution_count": 1,
   "id": "60a597e8",
   "metadata": {},
   "outputs": [],
   "source": [
    "# First we'll import all libraries that will be used in this project\n",
    "import pandas as pd\n",
    "import numpy as np\n",
    "\n",
    "#visualization\n",
    "import seaborn as sns\n",
    "import matplotlib.pyplot as plt\n",
    "\n",
    "# encoding\n",
    "from sklearn import preprocessing\n",
    "\n",
    "# split data\n",
    "from sklearn.model_selection import train_test_split\n",
    "\n",
    "# model\n",
    "from sklearn.neighbors import KNeighborsClassifier\n",
    "from sklearn.ensemble import RandomForestClassifier\n",
    "from sklearn.linear_model import LogisticRegression\n",
    "from sklearn.tree import DecisionTreeClassifier\n",
    "from sklearn.naive_bayes import GaussianNB\n",
    "\n",
    "# hyperparameter tuning\n",
    "from sklearn.model_selection import GridSearchCV\n",
    "\n",
    "# evaluation\n",
    "from sklearn.metrics import confusion_matrix, ConfusionMatrixDisplay\n",
    "from sklearn.metrics import classification_report"
   ]
  },
  {
   "cell_type": "markdown",
   "id": "d7a41ca1",
   "metadata": {},
   "source": [
    "# Load & Understand the Dataset"
   ]
  },
  {
   "cell_type": "code",
   "execution_count": 2,
   "id": "5e6c79ed",
   "metadata": {},
   "outputs": [
    {
     "data": {
      "text/html": [
       "<div>\n",
       "<style scoped>\n",
       "    .dataframe tbody tr th:only-of-type {\n",
       "        vertical-align: middle;\n",
       "    }\n",
       "\n",
       "    .dataframe tbody tr th {\n",
       "        vertical-align: top;\n",
       "    }\n",
       "\n",
       "    .dataframe thead th {\n",
       "        text-align: right;\n",
       "    }\n",
       "</style>\n",
       "<table border=\"1\" class=\"dataframe\">\n",
       "  <thead>\n",
       "    <tr style=\"text-align: right;\">\n",
       "      <th></th>\n",
       "      <th>customerID</th>\n",
       "      <th>Gender</th>\n",
       "      <th>SeniorCitizen</th>\n",
       "      <th>Partner</th>\n",
       "      <th>Dependents</th>\n",
       "      <th>Tenure</th>\n",
       "      <th>Contract</th>\n",
       "      <th>PaperlessBilling</th>\n",
       "      <th>PaymentMethod</th>\n",
       "      <th>MonthlyCharges</th>\n",
       "      <th>TotalCharges</th>\n",
       "      <th>Churn</th>\n",
       "    </tr>\n",
       "  </thead>\n",
       "  <tbody>\n",
       "    <tr>\n",
       "      <th>0</th>\n",
       "      <td>7590-VHVEG</td>\n",
       "      <td>Female</td>\n",
       "      <td>0.0</td>\n",
       "      <td>NaN</td>\n",
       "      <td>No</td>\n",
       "      <td>1.0</td>\n",
       "      <td>Month-to-month</td>\n",
       "      <td>Yes</td>\n",
       "      <td>Electronic check</td>\n",
       "      <td>29.85</td>\n",
       "      <td>29.85</td>\n",
       "      <td>No</td>\n",
       "    </tr>\n",
       "    <tr>\n",
       "      <th>1</th>\n",
       "      <td>5575-GNVDE</td>\n",
       "      <td>Male</td>\n",
       "      <td>0.0</td>\n",
       "      <td>No</td>\n",
       "      <td>No</td>\n",
       "      <td>34.0</td>\n",
       "      <td>One year</td>\n",
       "      <td>No</td>\n",
       "      <td>Mailed check</td>\n",
       "      <td>56.95</td>\n",
       "      <td>1889.50</td>\n",
       "      <td>No</td>\n",
       "    </tr>\n",
       "    <tr>\n",
       "      <th>2</th>\n",
       "      <td>3668-QPYBK</td>\n",
       "      <td>Male</td>\n",
       "      <td>0.0</td>\n",
       "      <td>No</td>\n",
       "      <td>No</td>\n",
       "      <td>2.0</td>\n",
       "      <td>Month-to-month</td>\n",
       "      <td>Yes</td>\n",
       "      <td>Mailed check</td>\n",
       "      <td>53.85</td>\n",
       "      <td>108.15</td>\n",
       "      <td>Yes</td>\n",
       "    </tr>\n",
       "    <tr>\n",
       "      <th>3</th>\n",
       "      <td>7795-CFOCW</td>\n",
       "      <td>Male</td>\n",
       "      <td>0.0</td>\n",
       "      <td>No</td>\n",
       "      <td>No</td>\n",
       "      <td>45.0</td>\n",
       "      <td>One year</td>\n",
       "      <td>No</td>\n",
       "      <td>Bank transfer (automatic)</td>\n",
       "      <td>42.30</td>\n",
       "      <td>1840.75</td>\n",
       "      <td>No</td>\n",
       "    </tr>\n",
       "    <tr>\n",
       "      <th>4</th>\n",
       "      <td>9237-HQITU</td>\n",
       "      <td>Female</td>\n",
       "      <td>0.0</td>\n",
       "      <td>No</td>\n",
       "      <td>No</td>\n",
       "      <td>2.0</td>\n",
       "      <td>Month-to-month</td>\n",
       "      <td>Yes</td>\n",
       "      <td>Electronic check</td>\n",
       "      <td>70.70</td>\n",
       "      <td>151.65</td>\n",
       "      <td>Yes</td>\n",
       "    </tr>\n",
       "  </tbody>\n",
       "</table>\n",
       "</div>"
      ],
      "text/plain": [
       "   customerID  Gender  SeniorCitizen Partner Dependents  Tenure  \\\n",
       "0  7590-VHVEG  Female            0.0     NaN         No     1.0   \n",
       "1  5575-GNVDE    Male            0.0      No         No    34.0   \n",
       "2  3668-QPYBK    Male            0.0      No         No     2.0   \n",
       "3  7795-CFOCW    Male            0.0      No         No    45.0   \n",
       "4  9237-HQITU  Female            0.0      No         No     2.0   \n",
       "\n",
       "         Contract PaperlessBilling              PaymentMethod  MonthlyCharges  \\\n",
       "0  Month-to-month              Yes           Electronic check           29.85   \n",
       "1        One year               No               Mailed check           56.95   \n",
       "2  Month-to-month              Yes               Mailed check           53.85   \n",
       "3        One year               No  Bank transfer (automatic)           42.30   \n",
       "4  Month-to-month              Yes           Electronic check           70.70   \n",
       "\n",
       "   TotalCharges Churn  \n",
       "0         29.85    No  \n",
       "1       1889.50    No  \n",
       "2        108.15   Yes  \n",
       "3       1840.75    No  \n",
       "4        151.65   Yes  "
      ]
     },
     "execution_count": 2,
     "metadata": {},
     "output_type": "execute_result"
    }
   ],
   "source": [
    "# Load telecom customer churn dataset\n",
    "\n",
    "df = pd.read_csv('churn.csv')\n",
    "df.head()"
   ]
  },
  {
   "cell_type": "code",
   "execution_count": 3,
   "id": "de85d47d",
   "metadata": {},
   "outputs": [
    {
     "name": "stdout",
     "output_type": "stream",
     "text": [
      "<class 'pandas.core.frame.DataFrame'>\n",
      "RangeIndex: 7046 entries, 0 to 7045\n",
      "Data columns (total 12 columns):\n",
      " #   Column            Non-Null Count  Dtype  \n",
      "---  ------            --------------  -----  \n",
      " 0   customerID        7037 non-null   object \n",
      " 1   Gender            7030 non-null   object \n",
      " 2   SeniorCitizen     7034 non-null   float64\n",
      " 3   Partner           7030 non-null   object \n",
      " 4   Dependents        7027 non-null   object \n",
      " 5   Tenure            7029 non-null   float64\n",
      " 6   Contract          7033 non-null   object \n",
      " 7   PaperlessBilling  7033 non-null   object \n",
      " 8   PaymentMethod     7035 non-null   object \n",
      " 9   MonthlyCharges    7036 non-null   float64\n",
      " 10  TotalCharges      7046 non-null   float64\n",
      " 11  Churn             7046 non-null   object \n",
      "dtypes: float64(4), object(8)\n",
      "memory usage: 660.7+ KB\n"
     ]
    }
   ],
   "source": [
    "# gathering the basic info of this dataset\n",
    "\n",
    "df.info()"
   ]
  },
  {
   "cell_type": "markdown",
   "id": "fcace461",
   "metadata": {},
   "source": [
    "- The dataset consist of 7046 rows and 12 columns.\n",
    "- We won't use `customerID` column in this project, so we'll drop it later.\n",
    "- Target is `Churn` column that is still in object dtype, so we'll handle it later.\n",
    "- We have some categorical data that need to be encoded later.\n",
    "- We will also check the multicollinierity among numerical datas."
   ]
  },
  {
   "cell_type": "markdown",
   "id": "4eb91335",
   "metadata": {},
   "source": [
    "**Columns Understanding**\n",
    "1. `customerID`: Customer ID\n",
    "2. `Gender`: Customer gender (Male/ Female)\n",
    "3. `SeniorCitizen`: Whether the customer is a senior citizen (65 or older) or not. (1= Senior Citizen; 0=non Senior Citizen)\n",
    "4. `Partner`: Indicates if customer has partner or not/single (Yes/ No)\n",
    "5. `Dependents`: Whether the customer has dependents or not (Yes/No). Dependents can be children, parents, etc\n",
    "6. `Tenure`: Represents the total number of months that customers have been with the company\n",
    "7. `Contract`: Shows the customer's current contract type (Month-to-month/ One year/ Two year)\n",
    "8. `PaperlessBilling`: Indicates whether the customer uses paperless billing (Yes/ No)\n",
    "9. `PaymentMethod`: Shows the customer's choice of how to pay for their bill (Electronic check/ Mailed check/ Bank transfer (automatic)/ Credit card (automatic)\n",
    "10. `MonthlyCharges`: Shows the customer's current total monthly charges for all the services they use\n",
    "11. `TotalCharges`: Shows the total cost of the customer\n",
    "12. `Churn`: Shows Customer churn status (Yes/ No)"
   ]
  },
  {
   "cell_type": "markdown",
   "id": "4652860d",
   "metadata": {},
   "source": [
    "# Basic Data Cleaning"
   ]
  },
  {
   "cell_type": "markdown",
   "id": "086c68a8",
   "metadata": {},
   "source": [
    "## Handling Missing Value"
   ]
  },
  {
   "cell_type": "code",
   "execution_count": 4,
   "id": "2fb0a00c",
   "metadata": {},
   "outputs": [
    {
     "data": {
      "text/html": [
       "<div>\n",
       "<style scoped>\n",
       "    .dataframe tbody tr th:only-of-type {\n",
       "        vertical-align: middle;\n",
       "    }\n",
       "\n",
       "    .dataframe tbody tr th {\n",
       "        vertical-align: top;\n",
       "    }\n",
       "\n",
       "    .dataframe thead th {\n",
       "        text-align: right;\n",
       "    }\n",
       "</style>\n",
       "<table border=\"1\" class=\"dataframe\">\n",
       "  <thead>\n",
       "    <tr style=\"text-align: right;\">\n",
       "      <th></th>\n",
       "      <th>feature</th>\n",
       "      <th>missing_value</th>\n",
       "      <th>percentage</th>\n",
       "    </tr>\n",
       "  </thead>\n",
       "  <tbody>\n",
       "    <tr>\n",
       "      <th>0</th>\n",
       "      <td>Dependents</td>\n",
       "      <td>19</td>\n",
       "      <td>0.27</td>\n",
       "    </tr>\n",
       "    <tr>\n",
       "      <th>1</th>\n",
       "      <td>Tenure</td>\n",
       "      <td>17</td>\n",
       "      <td>0.24</td>\n",
       "    </tr>\n",
       "    <tr>\n",
       "      <th>2</th>\n",
       "      <td>Gender</td>\n",
       "      <td>16</td>\n",
       "      <td>0.23</td>\n",
       "    </tr>\n",
       "    <tr>\n",
       "      <th>3</th>\n",
       "      <td>Partner</td>\n",
       "      <td>16</td>\n",
       "      <td>0.23</td>\n",
       "    </tr>\n",
       "    <tr>\n",
       "      <th>4</th>\n",
       "      <td>Contract</td>\n",
       "      <td>13</td>\n",
       "      <td>0.18</td>\n",
       "    </tr>\n",
       "    <tr>\n",
       "      <th>5</th>\n",
       "      <td>PaperlessBilling</td>\n",
       "      <td>13</td>\n",
       "      <td>0.18</td>\n",
       "    </tr>\n",
       "    <tr>\n",
       "      <th>6</th>\n",
       "      <td>SeniorCitizen</td>\n",
       "      <td>12</td>\n",
       "      <td>0.17</td>\n",
       "    </tr>\n",
       "    <tr>\n",
       "      <th>7</th>\n",
       "      <td>PaymentMethod</td>\n",
       "      <td>11</td>\n",
       "      <td>0.16</td>\n",
       "    </tr>\n",
       "    <tr>\n",
       "      <th>8</th>\n",
       "      <td>MonthlyCharges</td>\n",
       "      <td>10</td>\n",
       "      <td>0.14</td>\n",
       "    </tr>\n",
       "    <tr>\n",
       "      <th>9</th>\n",
       "      <td>customerID</td>\n",
       "      <td>9</td>\n",
       "      <td>0.13</td>\n",
       "    </tr>\n",
       "  </tbody>\n",
       "</table>\n",
       "</div>"
      ],
      "text/plain": [
       "            feature  missing_value  percentage\n",
       "0        Dependents             19        0.27\n",
       "1            Tenure             17        0.24\n",
       "2            Gender             16        0.23\n",
       "3           Partner             16        0.23\n",
       "4          Contract             13        0.18\n",
       "5  PaperlessBilling             13        0.18\n",
       "6     SeniorCitizen             12        0.17\n",
       "7     PaymentMethod             11        0.16\n",
       "8    MonthlyCharges             10        0.14\n",
       "9        customerID              9        0.13"
      ]
     },
     "execution_count": 4,
     "metadata": {},
     "output_type": "execute_result"
    }
   ],
   "source": [
    "# make dataframe of missing value for easy reading\n",
    "\n",
    "data_nan = df.isna().sum().reset_index()\n",
    "data_nan.columns = ['feature','missing_value']\n",
    "data_nan['percentage'] = round((data_nan['missing_value']/len(df))*100,2)\n",
    "data_nan = data_nan.sort_values('percentage', ascending=False).reset_index(drop=True)\n",
    "data_nan = data_nan[data_nan['percentage']>0]\n",
    "data_nan"
   ]
  },
  {
   "cell_type": "markdown",
   "id": "4beb792b",
   "metadata": {},
   "source": [
    "In percentage the number of missing values data is very small (less than 1%)"
   ]
  },
  {
   "cell_type": "code",
   "execution_count": 5,
   "id": "5b630cdb",
   "metadata": {},
   "outputs": [
    {
     "data": {
      "text/plain": [
       "1.9301731478853252"
      ]
     },
     "execution_count": 5,
     "metadata": {},
     "output_type": "execute_result"
    }
   ],
   "source": [
    "# check overall (total missing value) just in case the missing values are located on different rows\n",
    "\n",
    "(data_nan['missing_value'].sum()/len(df))*100"
   ]
  },
  {
   "cell_type": "markdown",
   "id": "99c48ec2",
   "metadata": {},
   "source": [
    "Even if the missing values are all in different rows, the total number is still very small (less than 2%) and can be dropped."
   ]
  },
  {
   "cell_type": "code",
   "execution_count": 6,
   "id": "363ee948",
   "metadata": {
    "scrolled": true
   },
   "outputs": [
    {
     "name": "stdout",
     "output_type": "stream",
     "text": [
      "rows before drop missing values :  7046\n",
      "rows after drop missing values :  6911\n"
     ]
    }
   ],
   "source": [
    "# drop missing values\n",
    "\n",
    "print('rows before drop missing values : ', len(df))\n",
    "df = df.dropna().reset_index(drop=True)\n",
    "print('rows after drop missing values : ', len(df))"
   ]
  },
  {
   "cell_type": "code",
   "execution_count": 7,
   "id": "72276a70",
   "metadata": {
    "scrolled": true
   },
   "outputs": [
    {
     "data": {
      "text/html": [
       "<div>\n",
       "<style scoped>\n",
       "    .dataframe tbody tr th:only-of-type {\n",
       "        vertical-align: middle;\n",
       "    }\n",
       "\n",
       "    .dataframe tbody tr th {\n",
       "        vertical-align: top;\n",
       "    }\n",
       "\n",
       "    .dataframe thead th {\n",
       "        text-align: right;\n",
       "    }\n",
       "</style>\n",
       "<table border=\"1\" class=\"dataframe\">\n",
       "  <thead>\n",
       "    <tr style=\"text-align: right;\">\n",
       "      <th></th>\n",
       "      <th>customerID</th>\n",
       "      <th>Gender</th>\n",
       "      <th>SeniorCitizen</th>\n",
       "      <th>Partner</th>\n",
       "      <th>Dependents</th>\n",
       "      <th>Tenure</th>\n",
       "      <th>Contract</th>\n",
       "      <th>PaperlessBilling</th>\n",
       "      <th>PaymentMethod</th>\n",
       "      <th>MonthlyCharges</th>\n",
       "      <th>TotalCharges</th>\n",
       "      <th>Churn</th>\n",
       "    </tr>\n",
       "  </thead>\n",
       "  <tbody>\n",
       "    <tr>\n",
       "      <th>0</th>\n",
       "      <td>5575-GNVDE</td>\n",
       "      <td>Male</td>\n",
       "      <td>0.0</td>\n",
       "      <td>No</td>\n",
       "      <td>No</td>\n",
       "      <td>34.0</td>\n",
       "      <td>One year</td>\n",
       "      <td>No</td>\n",
       "      <td>Mailed check</td>\n",
       "      <td>56.95</td>\n",
       "      <td>1889.50</td>\n",
       "      <td>No</td>\n",
       "    </tr>\n",
       "    <tr>\n",
       "      <th>1</th>\n",
       "      <td>3668-QPYBK</td>\n",
       "      <td>Male</td>\n",
       "      <td>0.0</td>\n",
       "      <td>No</td>\n",
       "      <td>No</td>\n",
       "      <td>2.0</td>\n",
       "      <td>Month-to-month</td>\n",
       "      <td>Yes</td>\n",
       "      <td>Mailed check</td>\n",
       "      <td>53.85</td>\n",
       "      <td>108.15</td>\n",
       "      <td>Yes</td>\n",
       "    </tr>\n",
       "    <tr>\n",
       "      <th>2</th>\n",
       "      <td>7795-CFOCW</td>\n",
       "      <td>Male</td>\n",
       "      <td>0.0</td>\n",
       "      <td>No</td>\n",
       "      <td>No</td>\n",
       "      <td>45.0</td>\n",
       "      <td>One year</td>\n",
       "      <td>No</td>\n",
       "      <td>Bank transfer (automatic)</td>\n",
       "      <td>42.30</td>\n",
       "      <td>1840.75</td>\n",
       "      <td>No</td>\n",
       "    </tr>\n",
       "    <tr>\n",
       "      <th>3</th>\n",
       "      <td>9237-HQITU</td>\n",
       "      <td>Female</td>\n",
       "      <td>0.0</td>\n",
       "      <td>No</td>\n",
       "      <td>No</td>\n",
       "      <td>2.0</td>\n",
       "      <td>Month-to-month</td>\n",
       "      <td>Yes</td>\n",
       "      <td>Electronic check</td>\n",
       "      <td>70.70</td>\n",
       "      <td>151.65</td>\n",
       "      <td>Yes</td>\n",
       "    </tr>\n",
       "    <tr>\n",
       "      <th>4</th>\n",
       "      <td>9305-CDSKC</td>\n",
       "      <td>Female</td>\n",
       "      <td>0.0</td>\n",
       "      <td>No</td>\n",
       "      <td>No</td>\n",
       "      <td>8.0</td>\n",
       "      <td>Month-to-month</td>\n",
       "      <td>Yes</td>\n",
       "      <td>Electronic check</td>\n",
       "      <td>99.65</td>\n",
       "      <td>820.50</td>\n",
       "      <td>Yes</td>\n",
       "    </tr>\n",
       "  </tbody>\n",
       "</table>\n",
       "</div>"
      ],
      "text/plain": [
       "   customerID  Gender  SeniorCitizen Partner Dependents  Tenure  \\\n",
       "0  5575-GNVDE    Male            0.0      No         No    34.0   \n",
       "1  3668-QPYBK    Male            0.0      No         No     2.0   \n",
       "2  7795-CFOCW    Male            0.0      No         No    45.0   \n",
       "3  9237-HQITU  Female            0.0      No         No     2.0   \n",
       "4  9305-CDSKC  Female            0.0      No         No     8.0   \n",
       "\n",
       "         Contract PaperlessBilling              PaymentMethod  MonthlyCharges  \\\n",
       "0        One year               No               Mailed check           56.95   \n",
       "1  Month-to-month              Yes               Mailed check           53.85   \n",
       "2        One year               No  Bank transfer (automatic)           42.30   \n",
       "3  Month-to-month              Yes           Electronic check           70.70   \n",
       "4  Month-to-month              Yes           Electronic check           99.65   \n",
       "\n",
       "   TotalCharges Churn  \n",
       "0       1889.50    No  \n",
       "1        108.15   Yes  \n",
       "2       1840.75    No  \n",
       "3        151.65   Yes  \n",
       "4        820.50   Yes  "
      ]
     },
     "execution_count": 7,
     "metadata": {},
     "output_type": "execute_result"
    }
   ],
   "source": [
    "df.head()"
   ]
  },
  {
   "cell_type": "markdown",
   "id": "5779d08d",
   "metadata": {},
   "source": [
    "rows before drop missing values :  7046\n",
    "\n",
    "rows after drop missing values :  6911\n",
    "\n",
    "It means that we dropped 135 rows (1.92%)"
   ]
  },
  {
   "cell_type": "markdown",
   "id": "74c42dc4",
   "metadata": {},
   "source": [
    "## Handling Duplicated Value"
   ]
  },
  {
   "cell_type": "code",
   "execution_count": 8,
   "id": "1e119881",
   "metadata": {},
   "outputs": [
    {
     "name": "stdout",
     "output_type": "stream",
     "text": [
      "duplicated values :  13\n",
      "percentage of duplicated values :  0.1881059181015772\n"
     ]
    }
   ],
   "source": [
    "# check duplicated values\n",
    "\n",
    "print('duplicated values : ', df.duplicated().sum())\n",
    "print('percentage of duplicated values : ', df.duplicated().sum()/len(df)*100)"
   ]
  },
  {
   "cell_type": "markdown",
   "id": "3796c9ce",
   "metadata": {},
   "source": [
    "Because the number of duplicated values is very small, we just drop them."
   ]
  },
  {
   "cell_type": "code",
   "execution_count": 9,
   "id": "4d901b88",
   "metadata": {
    "scrolled": true
   },
   "outputs": [
    {
     "name": "stdout",
     "output_type": "stream",
     "text": [
      "rows before drop duplicated values :  6911\n",
      "rows after drop duplicated values :  6898\n"
     ]
    }
   ],
   "source": [
    "# drop missing values\n",
    "\n",
    "print('rows before drop duplicated values : ', len(df))\n",
    "df = df.drop_duplicates().reset_index(drop=True)\n",
    "print('rows after drop duplicated values : ', len(df))"
   ]
  },
  {
   "cell_type": "markdown",
   "id": "25a0903c",
   "metadata": {},
   "source": [
    "We have successfully dropped duplicated values and have 6898 rows now."
   ]
  },
  {
   "cell_type": "code",
   "execution_count": 10,
   "id": "1f4fc348",
   "metadata": {},
   "outputs": [
    {
     "data": {
      "text/html": [
       "<div>\n",
       "<style scoped>\n",
       "    .dataframe tbody tr th:only-of-type {\n",
       "        vertical-align: middle;\n",
       "    }\n",
       "\n",
       "    .dataframe tbody tr th {\n",
       "        vertical-align: top;\n",
       "    }\n",
       "\n",
       "    .dataframe thead th {\n",
       "        text-align: right;\n",
       "    }\n",
       "</style>\n",
       "<table border=\"1\" class=\"dataframe\">\n",
       "  <thead>\n",
       "    <tr style=\"text-align: right;\">\n",
       "      <th></th>\n",
       "      <th>Gender</th>\n",
       "      <th>SeniorCitizen</th>\n",
       "      <th>Partner</th>\n",
       "      <th>Dependents</th>\n",
       "      <th>Tenure</th>\n",
       "      <th>Contract</th>\n",
       "      <th>PaperlessBilling</th>\n",
       "      <th>PaymentMethod</th>\n",
       "      <th>MonthlyCharges</th>\n",
       "      <th>TotalCharges</th>\n",
       "      <th>Churn</th>\n",
       "    </tr>\n",
       "  </thead>\n",
       "  <tbody>\n",
       "    <tr>\n",
       "      <th>0</th>\n",
       "      <td>Male</td>\n",
       "      <td>0.0</td>\n",
       "      <td>No</td>\n",
       "      <td>No</td>\n",
       "      <td>34.0</td>\n",
       "      <td>One year</td>\n",
       "      <td>No</td>\n",
       "      <td>Mailed check</td>\n",
       "      <td>56.95</td>\n",
       "      <td>1889.50</td>\n",
       "      <td>No</td>\n",
       "    </tr>\n",
       "    <tr>\n",
       "      <th>1</th>\n",
       "      <td>Male</td>\n",
       "      <td>0.0</td>\n",
       "      <td>No</td>\n",
       "      <td>No</td>\n",
       "      <td>2.0</td>\n",
       "      <td>Month-to-month</td>\n",
       "      <td>Yes</td>\n",
       "      <td>Mailed check</td>\n",
       "      <td>53.85</td>\n",
       "      <td>108.15</td>\n",
       "      <td>Yes</td>\n",
       "    </tr>\n",
       "    <tr>\n",
       "      <th>2</th>\n",
       "      <td>Male</td>\n",
       "      <td>0.0</td>\n",
       "      <td>No</td>\n",
       "      <td>No</td>\n",
       "      <td>45.0</td>\n",
       "      <td>One year</td>\n",
       "      <td>No</td>\n",
       "      <td>Bank transfer (automatic)</td>\n",
       "      <td>42.30</td>\n",
       "      <td>1840.75</td>\n",
       "      <td>No</td>\n",
       "    </tr>\n",
       "    <tr>\n",
       "      <th>3</th>\n",
       "      <td>Female</td>\n",
       "      <td>0.0</td>\n",
       "      <td>No</td>\n",
       "      <td>No</td>\n",
       "      <td>2.0</td>\n",
       "      <td>Month-to-month</td>\n",
       "      <td>Yes</td>\n",
       "      <td>Electronic check</td>\n",
       "      <td>70.70</td>\n",
       "      <td>151.65</td>\n",
       "      <td>Yes</td>\n",
       "    </tr>\n",
       "    <tr>\n",
       "      <th>4</th>\n",
       "      <td>Female</td>\n",
       "      <td>0.0</td>\n",
       "      <td>No</td>\n",
       "      <td>No</td>\n",
       "      <td>8.0</td>\n",
       "      <td>Month-to-month</td>\n",
       "      <td>Yes</td>\n",
       "      <td>Electronic check</td>\n",
       "      <td>99.65</td>\n",
       "      <td>820.50</td>\n",
       "      <td>Yes</td>\n",
       "    </tr>\n",
       "  </tbody>\n",
       "</table>\n",
       "</div>"
      ],
      "text/plain": [
       "   Gender  SeniorCitizen Partner Dependents  Tenure        Contract  \\\n",
       "0    Male            0.0      No         No    34.0        One year   \n",
       "1    Male            0.0      No         No     2.0  Month-to-month   \n",
       "2    Male            0.0      No         No    45.0        One year   \n",
       "3  Female            0.0      No         No     2.0  Month-to-month   \n",
       "4  Female            0.0      No         No     8.0  Month-to-month   \n",
       "\n",
       "  PaperlessBilling              PaymentMethod  MonthlyCharges  TotalCharges  \\\n",
       "0               No               Mailed check           56.95       1889.50   \n",
       "1              Yes               Mailed check           53.85        108.15   \n",
       "2               No  Bank transfer (automatic)           42.30       1840.75   \n",
       "3              Yes           Electronic check           70.70        151.65   \n",
       "4              Yes           Electronic check           99.65        820.50   \n",
       "\n",
       "  Churn  \n",
       "0    No  \n",
       "1   Yes  \n",
       "2    No  \n",
       "3   Yes  \n",
       "4   Yes  "
      ]
     },
     "execution_count": 10,
     "metadata": {},
     "output_type": "execute_result"
    }
   ],
   "source": [
    "# We will also drop customer ID cause we won't use it\n",
    "\n",
    "df.drop('customerID', axis=1, inplace=True)\n",
    "df.head()"
   ]
  },
  {
   "cell_type": "markdown",
   "id": "22ee26fe",
   "metadata": {},
   "source": [
    "# Encode Target Variable"
   ]
  },
  {
   "cell_type": "markdown",
   "id": "b307053b",
   "metadata": {},
   "source": [
    "We will understand the value counts of each columns for the need of encoding process later on."
   ]
  },
  {
   "cell_type": "code",
   "execution_count": 11,
   "id": "5c332808",
   "metadata": {},
   "outputs": [
    {
     "name": "stdout",
     "output_type": "stream",
     "text": [
      "Value counts of \u001b[1mGender\u001b[0m column\n",
      "Male      3488\n",
      "Female    3410\n",
      "Name: Gender, dtype: int64 \n",
      "\n",
      "Value counts of \u001b[1mPartner\u001b[0m column\n",
      "No     3573\n",
      "Yes    3325\n",
      "Name: Partner, dtype: int64 \n",
      "\n",
      "Value counts of \u001b[1mDependents\u001b[0m column\n",
      "No     4845\n",
      "Yes    2053\n",
      "Name: Dependents, dtype: int64 \n",
      "\n",
      "Value counts of \u001b[1mContract\u001b[0m column\n",
      "Month-to-month    3803\n",
      "Two year          1653\n",
      "One year          1442\n",
      "Name: Contract, dtype: int64 \n",
      "\n",
      "Value counts of \u001b[1mPaperlessBilling\u001b[0m column\n",
      "Yes    4088\n",
      "No     2810\n",
      "Name: PaperlessBilling, dtype: int64 \n",
      "\n",
      "Value counts of \u001b[1mPaymentMethod\u001b[0m column\n",
      "Electronic check             2309\n",
      "Mailed check                 1581\n",
      "Bank transfer (automatic)    1514\n",
      "Credit card (automatic)      1494\n",
      "Name: PaymentMethod, dtype: int64 \n",
      "\n",
      "Value counts of \u001b[1mChurn\u001b[0m column\n",
      "No     5073\n",
      "Yes    1825\n",
      "Name: Churn, dtype: int64 \n",
      "\n"
     ]
    }
   ],
   "source": [
    "# Grouping columns\n",
    "all_categoricals = ['Gender', 'Partner', 'Dependents','Contract', 'PaperlessBilling', 'PaymentMethod', 'Churn']\n",
    "\n",
    "# showing the precise value counts\n",
    "for col in all_categoricals:\n",
    "  print(f\"Value counts of \\033[1m{col}\\033[0m column\")\n",
    "  print(df[col].value_counts(), '\\n')"
   ]
  },
  {
   "cell_type": "markdown",
   "id": "b29099c8",
   "metadata": {},
   "source": [
    "This time we will perform label encoding for target column `Churn`. And we will handle the rest later."
   ]
  },
  {
   "cell_type": "code",
   "execution_count": 12,
   "id": "ca676d05",
   "metadata": {},
   "outputs": [
    {
     "data": {
      "text/html": [
       "<div>\n",
       "<style scoped>\n",
       "    .dataframe tbody tr th:only-of-type {\n",
       "        vertical-align: middle;\n",
       "    }\n",
       "\n",
       "    .dataframe tbody tr th {\n",
       "        vertical-align: top;\n",
       "    }\n",
       "\n",
       "    .dataframe thead th {\n",
       "        text-align: right;\n",
       "    }\n",
       "</style>\n",
       "<table border=\"1\" class=\"dataframe\">\n",
       "  <thead>\n",
       "    <tr style=\"text-align: right;\">\n",
       "      <th></th>\n",
       "      <th>Gender</th>\n",
       "      <th>SeniorCitizen</th>\n",
       "      <th>Partner</th>\n",
       "      <th>Dependents</th>\n",
       "      <th>Tenure</th>\n",
       "      <th>Contract</th>\n",
       "      <th>PaperlessBilling</th>\n",
       "      <th>PaymentMethod</th>\n",
       "      <th>MonthlyCharges</th>\n",
       "      <th>TotalCharges</th>\n",
       "      <th>Churn</th>\n",
       "    </tr>\n",
       "  </thead>\n",
       "  <tbody>\n",
       "    <tr>\n",
       "      <th>0</th>\n",
       "      <td>Male</td>\n",
       "      <td>0.0</td>\n",
       "      <td>No</td>\n",
       "      <td>No</td>\n",
       "      <td>34.0</td>\n",
       "      <td>One year</td>\n",
       "      <td>No</td>\n",
       "      <td>Mailed check</td>\n",
       "      <td>56.95</td>\n",
       "      <td>1889.50</td>\n",
       "      <td>0</td>\n",
       "    </tr>\n",
       "    <tr>\n",
       "      <th>1</th>\n",
       "      <td>Male</td>\n",
       "      <td>0.0</td>\n",
       "      <td>No</td>\n",
       "      <td>No</td>\n",
       "      <td>2.0</td>\n",
       "      <td>Month-to-month</td>\n",
       "      <td>Yes</td>\n",
       "      <td>Mailed check</td>\n",
       "      <td>53.85</td>\n",
       "      <td>108.15</td>\n",
       "      <td>1</td>\n",
       "    </tr>\n",
       "    <tr>\n",
       "      <th>2</th>\n",
       "      <td>Male</td>\n",
       "      <td>0.0</td>\n",
       "      <td>No</td>\n",
       "      <td>No</td>\n",
       "      <td>45.0</td>\n",
       "      <td>One year</td>\n",
       "      <td>No</td>\n",
       "      <td>Bank transfer (automatic)</td>\n",
       "      <td>42.30</td>\n",
       "      <td>1840.75</td>\n",
       "      <td>0</td>\n",
       "    </tr>\n",
       "    <tr>\n",
       "      <th>3</th>\n",
       "      <td>Female</td>\n",
       "      <td>0.0</td>\n",
       "      <td>No</td>\n",
       "      <td>No</td>\n",
       "      <td>2.0</td>\n",
       "      <td>Month-to-month</td>\n",
       "      <td>Yes</td>\n",
       "      <td>Electronic check</td>\n",
       "      <td>70.70</td>\n",
       "      <td>151.65</td>\n",
       "      <td>1</td>\n",
       "    </tr>\n",
       "    <tr>\n",
       "      <th>4</th>\n",
       "      <td>Female</td>\n",
       "      <td>0.0</td>\n",
       "      <td>No</td>\n",
       "      <td>No</td>\n",
       "      <td>8.0</td>\n",
       "      <td>Month-to-month</td>\n",
       "      <td>Yes</td>\n",
       "      <td>Electronic check</td>\n",
       "      <td>99.65</td>\n",
       "      <td>820.50</td>\n",
       "      <td>1</td>\n",
       "    </tr>\n",
       "  </tbody>\n",
       "</table>\n",
       "</div>"
      ],
      "text/plain": [
       "   Gender  SeniorCitizen Partner Dependents  Tenure        Contract  \\\n",
       "0    Male            0.0      No         No    34.0        One year   \n",
       "1    Male            0.0      No         No     2.0  Month-to-month   \n",
       "2    Male            0.0      No         No    45.0        One year   \n",
       "3  Female            0.0      No         No     2.0  Month-to-month   \n",
       "4  Female            0.0      No         No     8.0  Month-to-month   \n",
       "\n",
       "  PaperlessBilling              PaymentMethod  MonthlyCharges  TotalCharges  \\\n",
       "0               No               Mailed check           56.95       1889.50   \n",
       "1              Yes               Mailed check           53.85        108.15   \n",
       "2               No  Bank transfer (automatic)           42.30       1840.75   \n",
       "3              Yes           Electronic check           70.70        151.65   \n",
       "4              Yes           Electronic check           99.65        820.50   \n",
       "\n",
       "   Churn  \n",
       "0      0  \n",
       "1      1  \n",
       "2      0  \n",
       "3      1  \n",
       "4      1  "
      ]
     },
     "execution_count": 12,
     "metadata": {},
     "output_type": "execute_result"
    }
   ],
   "source": [
    "# encode target column that has 2 values (as above) using label encoding.\n",
    "\n",
    "df['Churn'] = df['Churn'].transform(preprocessing.LabelEncoder().fit_transform)\n",
    "df.head()"
   ]
  },
  {
   "cell_type": "markdown",
   "id": "8fcd563b",
   "metadata": {},
   "source": [
    "# Split Data (Training & Testing)"
   ]
  },
  {
   "cell_type": "markdown",
   "id": "98190349",
   "metadata": {},
   "source": [
    "We split data into train and test, so that all decisions during feature selection that we'll make are only based on train data, so that there is no data leakage in the test data."
   ]
  },
  {
   "cell_type": "code",
   "execution_count": 13,
   "id": "d47a4528",
   "metadata": {},
   "outputs": [],
   "source": [
    "# as always, first thing is to split the data\n",
    "\n",
    "X = df.drop(columns='Churn', axis=1)\n",
    "y = df['Churn']\n",
    "\n",
    "X_train, X_test, y_train, y_test = train_test_split(X, y, test_size=0.20, random_state=42)"
   ]
  },
  {
   "cell_type": "markdown",
   "id": "ae4af361",
   "metadata": {},
   "source": [
    "# Multicollinear Study"
   ]
  },
  {
   "cell_type": "markdown",
   "id": "e9fc18a7",
   "metadata": {},
   "source": [
    "We will check whether there are some features that are strongly correlated with each other. We use the correlation heatmap and make a feature selection decision based on the results."
   ]
  },
  {
   "cell_type": "code",
   "execution_count": 14,
   "id": "de5c7db8",
   "metadata": {},
   "outputs": [
    {
     "data": {
      "text/plain": [
       "<function matplotlib.pyplot.show(close=None, block=None)>"
      ]
     },
     "execution_count": 14,
     "metadata": {},
     "output_type": "execute_result"
    },
    {
     "data": {
      "image/png": "[encoded data removed]",
      "text/plain": [
       "<Figure size 576x432 with 2 Axes>"
      ]
     },
     "metadata": {
      "needs_background": "light"
     },
     "output_type": "display_data"
    }
   ],
   "source": [
    "# heatmap correlation\n",
    "\n",
    "df_train = pd.concat([X_train, y_train], axis=1)\n",
    "corr = df_train.corr()\n",
    "plt.figure(figsize=(8,6))\n",
    "sns.heatmap(corr, annot=True, cmap='BrBG', fmt='.2f')\n",
    "plt.show"
   ]
  },
  {
   "cell_type": "markdown",
   "id": "56c30ce8",
   "metadata": {},
   "source": [
    "From Corr Heatmap above, there are 2 features that are correlated each other (Threshold: abs(corr) >= 0.8)\n",
    "\n",
    "`Tenure` and `TotalCharges`  >>  so we need to compare each value with target `Churn`\n",
    "\n",
    "Based on the value we need to drop `TotalCharges`"
   ]
  },
  {
   "cell_type": "code",
   "execution_count": 15,
   "id": "14240f8c",
   "metadata": {},
   "outputs": [],
   "source": [
    "# drop `TotalCharges` column on both train data (X_train) and test data(X_test)\n",
    "\n",
    "X_train = X_train.drop(columns = ['TotalCharges'])\n",
    "X_test = X_test.drop(columns=['TotalCharges'])"
   ]
  },
  {
   "cell_type": "markdown",
   "id": "32cb52e5",
   "metadata": {},
   "source": [
    "# Handle Categorical Data"
   ]
  },
  {
   "cell_type": "markdown",
   "id": "8e935317",
   "metadata": {},
   "source": [
    "We will perform encoding for all categorical data. Based on the observation before there are some features that consist of 2 values and more than 2 values. For features that consist of 2 values we will perform label encoding. While the other features that have more than 2 values, we will do one hot encoding.\n",
    "\n",
    "Label Encoding for these columns (has 2 values): Gender, Partner, Dependents, PaperlessBilling\n",
    "One Hot Encoding for these columns (hase >2 values): Contract, PaymentMethod"
   ]
  },
  {
   "cell_type": "markdown",
   "id": "c115f1f8",
   "metadata": {},
   "source": [
    "## Label Encoding"
   ]
  },
  {
   "cell_type": "code",
   "execution_count": 16,
   "id": "17659a87",
   "metadata": {
    "scrolled": true
   },
   "outputs": [
    {
     "data": {
      "text/html": [
       "<div>\n",
       "<style scoped>\n",
       "    .dataframe tbody tr th:only-of-type {\n",
       "        vertical-align: middle;\n",
       "    }\n",
       "\n",
       "    .dataframe tbody tr th {\n",
       "        vertical-align: top;\n",
       "    }\n",
       "\n",
       "    .dataframe thead th {\n",
       "        text-align: right;\n",
       "    }\n",
       "</style>\n",
       "<table border=\"1\" class=\"dataframe\">\n",
       "  <thead>\n",
       "    <tr style=\"text-align: right;\">\n",
       "      <th></th>\n",
       "      <th>Gender</th>\n",
       "      <th>SeniorCitizen</th>\n",
       "      <th>Partner</th>\n",
       "      <th>Dependents</th>\n",
       "      <th>Tenure</th>\n",
       "      <th>Contract</th>\n",
       "      <th>PaperlessBilling</th>\n",
       "      <th>PaymentMethod</th>\n",
       "      <th>MonthlyCharges</th>\n",
       "    </tr>\n",
       "  </thead>\n",
       "  <tbody>\n",
       "    <tr>\n",
       "      <th>969</th>\n",
       "      <td>1</td>\n",
       "      <td>0.0</td>\n",
       "      <td>1</td>\n",
       "      <td>1</td>\n",
       "      <td>34.0</td>\n",
       "      <td>One year</td>\n",
       "      <td>0</td>\n",
       "      <td>Credit card (automatic)</td>\n",
       "      <td>19.60</td>\n",
       "    </tr>\n",
       "    <tr>\n",
       "      <th>4505</th>\n",
       "      <td>1</td>\n",
       "      <td>0.0</td>\n",
       "      <td>0</td>\n",
       "      <td>1</td>\n",
       "      <td>1.0</td>\n",
       "      <td>Month-to-month</td>\n",
       "      <td>1</td>\n",
       "      <td>Mailed check</td>\n",
       "      <td>59.55</td>\n",
       "    </tr>\n",
       "    <tr>\n",
       "      <th>1912</th>\n",
       "      <td>0</td>\n",
       "      <td>0.0</td>\n",
       "      <td>1</td>\n",
       "      <td>1</td>\n",
       "      <td>49.0</td>\n",
       "      <td>Month-to-month</td>\n",
       "      <td>1</td>\n",
       "      <td>Bank transfer (automatic)</td>\n",
       "      <td>95.40</td>\n",
       "    </tr>\n",
       "    <tr>\n",
       "      <th>4173</th>\n",
       "      <td>1</td>\n",
       "      <td>0.0</td>\n",
       "      <td>1</td>\n",
       "      <td>0</td>\n",
       "      <td>17.0</td>\n",
       "      <td>Month-to-month</td>\n",
       "      <td>0</td>\n",
       "      <td>Credit card (automatic)</td>\n",
       "      <td>90.20</td>\n",
       "    </tr>\n",
       "    <tr>\n",
       "      <th>6337</th>\n",
       "      <td>1</td>\n",
       "      <td>0.0</td>\n",
       "      <td>0</td>\n",
       "      <td>0</td>\n",
       "      <td>35.0</td>\n",
       "      <td>Two year</td>\n",
       "      <td>0</td>\n",
       "      <td>Bank transfer (automatic)</td>\n",
       "      <td>21.45</td>\n",
       "    </tr>\n",
       "  </tbody>\n",
       "</table>\n",
       "</div>"
      ],
      "text/plain": [
       "      Gender  SeniorCitizen  Partner  Dependents  Tenure        Contract  \\\n",
       "969        1            0.0        1           1    34.0        One year   \n",
       "4505       1            0.0        0           1     1.0  Month-to-month   \n",
       "1912       0            0.0        1           1    49.0  Month-to-month   \n",
       "4173       1            0.0        1           0    17.0  Month-to-month   \n",
       "6337       1            0.0        0           0    35.0        Two year   \n",
       "\n",
       "      PaperlessBilling              PaymentMethod  MonthlyCharges  \n",
       "969                  0    Credit card (automatic)           19.60  \n",
       "4505                 1               Mailed check           59.55  \n",
       "1912                 1  Bank transfer (automatic)           95.40  \n",
       "4173                 0    Credit card (automatic)           90.20  \n",
       "6337                 0  Bank transfer (automatic)           21.45  "
      ]
     },
     "execution_count": 16,
     "metadata": {},
     "output_type": "execute_result"
    }
   ],
   "source": [
    "# Label Encoding (features with 2 values), group those for easier encoding process\n",
    "le_columns = ['Gender', 'Partner', 'Dependents', 'PaperlessBilling']\n",
    "\n",
    "# encode X_train categorical features with 2 values (as above) using label encoding.\n",
    "X_train[le_columns] = X_train[le_columns].transform(preprocessing.LabelEncoder().fit_transform)\n",
    "X_train.head()"
   ]
  },
  {
   "cell_type": "markdown",
   "id": "e6953dcf",
   "metadata": {},
   "source": [
    "Successfully encoded (Gender, Partner, Dependents, PaperlessBilling) columns on the X_train!!!"
   ]
  },
  {
   "cell_type": "code",
   "execution_count": 17,
   "id": "e5c2f255",
   "metadata": {
    "scrolled": true
   },
   "outputs": [
    {
     "data": {
      "text/html": [
       "<div>\n",
       "<style scoped>\n",
       "    .dataframe tbody tr th:only-of-type {\n",
       "        vertical-align: middle;\n",
       "    }\n",
       "\n",
       "    .dataframe tbody tr th {\n",
       "        vertical-align: top;\n",
       "    }\n",
       "\n",
       "    .dataframe thead th {\n",
       "        text-align: right;\n",
       "    }\n",
       "</style>\n",
       "<table border=\"1\" class=\"dataframe\">\n",
       "  <thead>\n",
       "    <tr style=\"text-align: right;\">\n",
       "      <th></th>\n",
       "      <th>Gender</th>\n",
       "      <th>SeniorCitizen</th>\n",
       "      <th>Partner</th>\n",
       "      <th>Dependents</th>\n",
       "      <th>Tenure</th>\n",
       "      <th>Contract</th>\n",
       "      <th>PaperlessBilling</th>\n",
       "      <th>PaymentMethod</th>\n",
       "      <th>MonthlyCharges</th>\n",
       "    </tr>\n",
       "  </thead>\n",
       "  <tbody>\n",
       "    <tr>\n",
       "      <th>2908</th>\n",
       "      <td>1</td>\n",
       "      <td>0.0</td>\n",
       "      <td>0</td>\n",
       "      <td>0</td>\n",
       "      <td>24.0</td>\n",
       "      <td>Month-to-month</td>\n",
       "      <td>1</td>\n",
       "      <td>Electronic check</td>\n",
       "      <td>85.95</td>\n",
       "    </tr>\n",
       "    <tr>\n",
       "      <th>2666</th>\n",
       "      <td>0</td>\n",
       "      <td>0.0</td>\n",
       "      <td>0</td>\n",
       "      <td>0</td>\n",
       "      <td>63.0</td>\n",
       "      <td>Month-to-month</td>\n",
       "      <td>0</td>\n",
       "      <td>Credit card (automatic)</td>\n",
       "      <td>108.25</td>\n",
       "    </tr>\n",
       "    <tr>\n",
       "      <th>5809</th>\n",
       "      <td>1</td>\n",
       "      <td>0.0</td>\n",
       "      <td>1</td>\n",
       "      <td>1</td>\n",
       "      <td>56.0</td>\n",
       "      <td>One year</td>\n",
       "      <td>1</td>\n",
       "      <td>Mailed check</td>\n",
       "      <td>85.85</td>\n",
       "    </tr>\n",
       "    <tr>\n",
       "      <th>5832</th>\n",
       "      <td>1</td>\n",
       "      <td>0.0</td>\n",
       "      <td>1</td>\n",
       "      <td>1</td>\n",
       "      <td>22.0</td>\n",
       "      <td>One year</td>\n",
       "      <td>1</td>\n",
       "      <td>Mailed check</td>\n",
       "      <td>78.65</td>\n",
       "    </tr>\n",
       "    <tr>\n",
       "      <th>3710</th>\n",
       "      <td>1</td>\n",
       "      <td>0.0</td>\n",
       "      <td>0</td>\n",
       "      <td>0</td>\n",
       "      <td>42.0</td>\n",
       "      <td>Month-to-month</td>\n",
       "      <td>1</td>\n",
       "      <td>Electronic check</td>\n",
       "      <td>100.30</td>\n",
       "    </tr>\n",
       "  </tbody>\n",
       "</table>\n",
       "</div>"
      ],
      "text/plain": [
       "      Gender  SeniorCitizen  Partner  Dependents  Tenure        Contract  \\\n",
       "2908       1            0.0        0           0    24.0  Month-to-month   \n",
       "2666       0            0.0        0           0    63.0  Month-to-month   \n",
       "5809       1            0.0        1           1    56.0        One year   \n",
       "5832       1            0.0        1           1    22.0        One year   \n",
       "3710       1            0.0        0           0    42.0  Month-to-month   \n",
       "\n",
       "      PaperlessBilling            PaymentMethod  MonthlyCharges  \n",
       "2908                 1         Electronic check           85.95  \n",
       "2666                 0  Credit card (automatic)          108.25  \n",
       "5809                 1             Mailed check           85.85  \n",
       "5832                 1             Mailed check           78.65  \n",
       "3710                 1         Electronic check          100.30  "
      ]
     },
     "execution_count": 17,
     "metadata": {},
     "output_type": "execute_result"
    }
   ],
   "source": [
    "# encode X_test categorical features with 2 values (as above) using label encoding.\n",
    "X_test[le_columns] = X_test[le_columns].transform(preprocessing.LabelEncoder().fit_transform)\n",
    "X_test.head()"
   ]
  },
  {
   "cell_type": "markdown",
   "id": "be0e11d0",
   "metadata": {},
   "source": [
    "Successfully encoded (Gender, Partner, Dependents, PaperlessBilling) columns on the X_test!!!"
   ]
  },
  {
   "cell_type": "markdown",
   "id": "d02923ab",
   "metadata": {},
   "source": [
    "## One Hot Encoding"
   ]
  },
  {
   "cell_type": "markdown",
   "id": "5c6f3e75",
   "metadata": {},
   "source": [
    "We will perform One Hot Encoding using pd.get_dummies, and apply to Contract and PaymentMethod."
   ]
  },
  {
   "cell_type": "code",
   "execution_count": 18,
   "id": "ef903586",
   "metadata": {
    "scrolled": true
   },
   "outputs": [
    {
     "data": {
      "text/html": [
       "<div>\n",
       "<style scoped>\n",
       "    .dataframe tbody tr th:only-of-type {\n",
       "        vertical-align: middle;\n",
       "    }\n",
       "\n",
       "    .dataframe tbody tr th {\n",
       "        vertical-align: top;\n",
       "    }\n",
       "\n",
       "    .dataframe thead th {\n",
       "        text-align: right;\n",
       "    }\n",
       "</style>\n",
       "<table border=\"1\" class=\"dataframe\">\n",
       "  <thead>\n",
       "    <tr style=\"text-align: right;\">\n",
       "      <th></th>\n",
       "      <th>Gender</th>\n",
       "      <th>SeniorCitizen</th>\n",
       "      <th>Partner</th>\n",
       "      <th>Dependents</th>\n",
       "      <th>Tenure</th>\n",
       "      <th>PaperlessBilling</th>\n",
       "      <th>MonthlyCharges</th>\n",
       "      <th>Contract_Month-to-month</th>\n",
       "      <th>Contract_One year</th>\n",
       "      <th>Contract_Two year</th>\n",
       "      <th>PaymentMethod_Bank transfer (automatic)</th>\n",
       "      <th>PaymentMethod_Credit card (automatic)</th>\n",
       "      <th>PaymentMethod_Electronic check</th>\n",
       "      <th>PaymentMethod_Mailed check</th>\n",
       "    </tr>\n",
       "  </thead>\n",
       "  <tbody>\n",
       "    <tr>\n",
       "      <th>969</th>\n",
       "      <td>1</td>\n",
       "      <td>0.0</td>\n",
       "      <td>1</td>\n",
       "      <td>1</td>\n",
       "      <td>34.0</td>\n",
       "      <td>0</td>\n",
       "      <td>19.60</td>\n",
       "      <td>0</td>\n",
       "      <td>1</td>\n",
       "      <td>0</td>\n",
       "      <td>0</td>\n",
       "      <td>1</td>\n",
       "      <td>0</td>\n",
       "      <td>0</td>\n",
       "    </tr>\n",
       "    <tr>\n",
       "      <th>4505</th>\n",
       "      <td>1</td>\n",
       "      <td>0.0</td>\n",
       "      <td>0</td>\n",
       "      <td>1</td>\n",
       "      <td>1.0</td>\n",
       "      <td>1</td>\n",
       "      <td>59.55</td>\n",
       "      <td>1</td>\n",
       "      <td>0</td>\n",
       "      <td>0</td>\n",
       "      <td>0</td>\n",
       "      <td>0</td>\n",
       "      <td>0</td>\n",
       "      <td>1</td>\n",
       "    </tr>\n",
       "    <tr>\n",
       "      <th>1912</th>\n",
       "      <td>0</td>\n",
       "      <td>0.0</td>\n",
       "      <td>1</td>\n",
       "      <td>1</td>\n",
       "      <td>49.0</td>\n",
       "      <td>1</td>\n",
       "      <td>95.40</td>\n",
       "      <td>1</td>\n",
       "      <td>0</td>\n",
       "      <td>0</td>\n",
       "      <td>1</td>\n",
       "      <td>0</td>\n",
       "      <td>0</td>\n",
       "      <td>0</td>\n",
       "    </tr>\n",
       "    <tr>\n",
       "      <th>4173</th>\n",
       "      <td>1</td>\n",
       "      <td>0.0</td>\n",
       "      <td>1</td>\n",
       "      <td>0</td>\n",
       "      <td>17.0</td>\n",
       "      <td>0</td>\n",
       "      <td>90.20</td>\n",
       "      <td>1</td>\n",
       "      <td>0</td>\n",
       "      <td>0</td>\n",
       "      <td>0</td>\n",
       "      <td>1</td>\n",
       "      <td>0</td>\n",
       "      <td>0</td>\n",
       "    </tr>\n",
       "    <tr>\n",
       "      <th>6337</th>\n",
       "      <td>1</td>\n",
       "      <td>0.0</td>\n",
       "      <td>0</td>\n",
       "      <td>0</td>\n",
       "      <td>35.0</td>\n",
       "      <td>0</td>\n",
       "      <td>21.45</td>\n",
       "      <td>0</td>\n",
       "      <td>0</td>\n",
       "      <td>1</td>\n",
       "      <td>1</td>\n",
       "      <td>0</td>\n",
       "      <td>0</td>\n",
       "      <td>0</td>\n",
       "    </tr>\n",
       "  </tbody>\n",
       "</table>\n",
       "</div>"
      ],
      "text/plain": [
       "      Gender  SeniorCitizen  Partner  Dependents  Tenure  PaperlessBilling  \\\n",
       "969        1            0.0        1           1    34.0                 0   \n",
       "4505       1            0.0        0           1     1.0                 1   \n",
       "1912       0            0.0        1           1    49.0                 1   \n",
       "4173       1            0.0        1           0    17.0                 0   \n",
       "6337       1            0.0        0           0    35.0                 0   \n",
       "\n",
       "      MonthlyCharges  Contract_Month-to-month  Contract_One year  \\\n",
       "969            19.60                        0                  1   \n",
       "4505           59.55                        1                  0   \n",
       "1912           95.40                        1                  0   \n",
       "4173           90.20                        1                  0   \n",
       "6337           21.45                        0                  0   \n",
       "\n",
       "      Contract_Two year  PaymentMethod_Bank transfer (automatic)  \\\n",
       "969                   0                                        0   \n",
       "4505                  0                                        0   \n",
       "1912                  0                                        1   \n",
       "4173                  0                                        0   \n",
       "6337                  1                                        1   \n",
       "\n",
       "      PaymentMethod_Credit card (automatic)  PaymentMethod_Electronic check  \\\n",
       "969                                       1                               0   \n",
       "4505                                      0                               0   \n",
       "1912                                      0                               0   \n",
       "4173                                      1                               0   \n",
       "6337                                      0                               0   \n",
       "\n",
       "      PaymentMethod_Mailed check  \n",
       "969                            0  \n",
       "4505                           1  \n",
       "1912                           0  \n",
       "4173                           0  \n",
       "6337                           0  "
      ]
     },
     "execution_count": 18,
     "metadata": {},
     "output_type": "execute_result"
    }
   ],
   "source": [
    "# one hot encode X_train categorical features with more than 2 values (as above) using pd.get_dummies.\n",
    "X_train = pd.get_dummies(data=X_train , columns=['Contract','PaymentMethod'])\n",
    "X_train.head()"
   ]
  },
  {
   "cell_type": "markdown",
   "id": "c2e0194e",
   "metadata": {},
   "source": [
    "Successfully encoded (Contract and PaymentMethod) columns on the X_train!!!"
   ]
  },
  {
   "cell_type": "code",
   "execution_count": 19,
   "id": "610f244b",
   "metadata": {},
   "outputs": [
    {
     "data": {
      "text/html": [
       "<div>\n",
       "<style scoped>\n",
       "    .dataframe tbody tr th:only-of-type {\n",
       "        vertical-align: middle;\n",
       "    }\n",
       "\n",
       "    .dataframe tbody tr th {\n",
       "        vertical-align: top;\n",
       "    }\n",
       "\n",
       "    .dataframe thead th {\n",
       "        text-align: right;\n",
       "    }\n",
       "</style>\n",
       "<table border=\"1\" class=\"dataframe\">\n",
       "  <thead>\n",
       "    <tr style=\"text-align: right;\">\n",
       "      <th></th>\n",
       "      <th>Gender</th>\n",
       "      <th>SeniorCitizen</th>\n",
       "      <th>Partner</th>\n",
       "      <th>Dependents</th>\n",
       "      <th>Tenure</th>\n",
       "      <th>PaperlessBilling</th>\n",
       "      <th>MonthlyCharges</th>\n",
       "      <th>Contract_Month-to-month</th>\n",
       "      <th>Contract_One year</th>\n",
       "      <th>Contract_Two year</th>\n",
       "      <th>PaymentMethod_Bank transfer (automatic)</th>\n",
       "      <th>PaymentMethod_Credit card (automatic)</th>\n",
       "      <th>PaymentMethod_Electronic check</th>\n",
       "      <th>PaymentMethod_Mailed check</th>\n",
       "    </tr>\n",
       "  </thead>\n",
       "  <tbody>\n",
       "    <tr>\n",
       "      <th>2908</th>\n",
       "      <td>1</td>\n",
       "      <td>0.0</td>\n",
       "      <td>0</td>\n",
       "      <td>0</td>\n",
       "      <td>24.0</td>\n",
       "      <td>1</td>\n",
       "      <td>85.95</td>\n",
       "      <td>1</td>\n",
       "      <td>0</td>\n",
       "      <td>0</td>\n",
       "      <td>0</td>\n",
       "      <td>0</td>\n",
       "      <td>1</td>\n",
       "      <td>0</td>\n",
       "    </tr>\n",
       "    <tr>\n",
       "      <th>2666</th>\n",
       "      <td>0</td>\n",
       "      <td>0.0</td>\n",
       "      <td>0</td>\n",
       "      <td>0</td>\n",
       "      <td>63.0</td>\n",
       "      <td>0</td>\n",
       "      <td>108.25</td>\n",
       "      <td>1</td>\n",
       "      <td>0</td>\n",
       "      <td>0</td>\n",
       "      <td>0</td>\n",
       "      <td>1</td>\n",
       "      <td>0</td>\n",
       "      <td>0</td>\n",
       "    </tr>\n",
       "    <tr>\n",
       "      <th>5809</th>\n",
       "      <td>1</td>\n",
       "      <td>0.0</td>\n",
       "      <td>1</td>\n",
       "      <td>1</td>\n",
       "      <td>56.0</td>\n",
       "      <td>1</td>\n",
       "      <td>85.85</td>\n",
       "      <td>0</td>\n",
       "      <td>1</td>\n",
       "      <td>0</td>\n",
       "      <td>0</td>\n",
       "      <td>0</td>\n",
       "      <td>0</td>\n",
       "      <td>1</td>\n",
       "    </tr>\n",
       "    <tr>\n",
       "      <th>5832</th>\n",
       "      <td>1</td>\n",
       "      <td>0.0</td>\n",
       "      <td>1</td>\n",
       "      <td>1</td>\n",
       "      <td>22.0</td>\n",
       "      <td>1</td>\n",
       "      <td>78.65</td>\n",
       "      <td>0</td>\n",
       "      <td>1</td>\n",
       "      <td>0</td>\n",
       "      <td>0</td>\n",
       "      <td>0</td>\n",
       "      <td>0</td>\n",
       "      <td>1</td>\n",
       "    </tr>\n",
       "    <tr>\n",
       "      <th>3710</th>\n",
       "      <td>1</td>\n",
       "      <td>0.0</td>\n",
       "      <td>0</td>\n",
       "      <td>0</td>\n",
       "      <td>42.0</td>\n",
       "      <td>1</td>\n",
       "      <td>100.30</td>\n",
       "      <td>1</td>\n",
       "      <td>0</td>\n",
       "      <td>0</td>\n",
       "      <td>0</td>\n",
       "      <td>0</td>\n",
       "      <td>1</td>\n",
       "      <td>0</td>\n",
       "    </tr>\n",
       "  </tbody>\n",
       "</table>\n",
       "</div>"
      ],
      "text/plain": [
       "      Gender  SeniorCitizen  Partner  Dependents  Tenure  PaperlessBilling  \\\n",
       "2908       1            0.0        0           0    24.0                 1   \n",
       "2666       0            0.0        0           0    63.0                 0   \n",
       "5809       1            0.0        1           1    56.0                 1   \n",
       "5832       1            0.0        1           1    22.0                 1   \n",
       "3710       1            0.0        0           0    42.0                 1   \n",
       "\n",
       "      MonthlyCharges  Contract_Month-to-month  Contract_One year  \\\n",
       "2908           85.95                        1                  0   \n",
       "2666          108.25                        1                  0   \n",
       "5809           85.85                        0                  1   \n",
       "5832           78.65                        0                  1   \n",
       "3710          100.30                        1                  0   \n",
       "\n",
       "      Contract_Two year  PaymentMethod_Bank transfer (automatic)  \\\n",
       "2908                  0                                        0   \n",
       "2666                  0                                        0   \n",
       "5809                  0                                        0   \n",
       "5832                  0                                        0   \n",
       "3710                  0                                        0   \n",
       "\n",
       "      PaymentMethod_Credit card (automatic)  PaymentMethod_Electronic check  \\\n",
       "2908                                      0                               1   \n",
       "2666                                      1                               0   \n",
       "5809                                      0                               0   \n",
       "5832                                      0                               0   \n",
       "3710                                      0                               1   \n",
       "\n",
       "      PaymentMethod_Mailed check  \n",
       "2908                           0  \n",
       "2666                           0  \n",
       "5809                           1  \n",
       "5832                           1  \n",
       "3710                           0  "
      ]
     },
     "execution_count": 19,
     "metadata": {},
     "output_type": "execute_result"
    }
   ],
   "source": [
    "# one hot encode X_train categorical features with more than 2 values (as above) using pd.get_dummies.\n",
    "X_test = pd.get_dummies(data=X_test , columns=['Contract','PaymentMethod'])\n",
    "X_test.head()"
   ]
  },
  {
   "cell_type": "markdown",
   "id": "13d6a670",
   "metadata": {},
   "source": [
    "Successfully encoded (Contract and PaymentMethod) columns on the X_test!!!"
   ]
  },
  {
   "cell_type": "markdown",
   "id": "51ec0dea",
   "metadata": {},
   "source": [
    "# K-Nearest Neighbor (KNN)"
   ]
  },
  {
   "cell_type": "markdown",
   "id": "8167aa37",
   "metadata": {},
   "source": [
    "## Confusion Matrix"
   ]
  },
  {
   "attachments": {
    "Confusion%20Matrix-2.jpg": {
     "image/jpeg": "[encoded data removed]"
    }
   },
   "cell_type": "markdown",
   "id": "b49adb5d",
   "metadata": {},
   "source": [
    "The dataset that we are using is imbalanced data where the target variable is `Churn` with 'Yes' value of 1825 and 'No' value of 5073. So for evaluation and also scoring selection in hyperparameter tuning, the confusion matrix will be used.\n",
    "\n",
    "![Confusion%20Matrix-2.jpg](attachment:Confusion%20Matrix-2.jpg)\n",
    "\n",
    "\n",
    "In the case of detecting churn customers, we want the model to be able to detect churn well. We don't want our model to mispredict not churn but actually churn (FN). This of course will be detrimental to the company.\n",
    "\n",
    "So in this case, **sensitivity/recall** is the right metric because the occurrence of false negatives is very much wanted to be avoided (a big risk for the company).\n",
    "\n",
    "According to the formula, of course, we expect maximum TP and minimum FN so that the model is said to be reliable in detecting churn customers."
   ]
  },
  {
   "cell_type": "markdown",
   "id": "0b62b000",
   "metadata": {},
   "source": [
    "## Hyperparameter Tuning - KNN"
   ]
  },
  {
   "cell_type": "code",
   "execution_count": 20,
   "id": "4d966c7d",
   "metadata": {},
   "outputs": [],
   "source": [
    "# define the estimator/model\n",
    "\n",
    "knn = KNeighborsClassifier()"
   ]
  },
  {
   "cell_type": "code",
   "execution_count": 21,
   "id": "8989b82b",
   "metadata": {},
   "outputs": [
    {
     "data": {
      "text/html": [
       "<style>#sk-container-id-1 {color: black;background-color: white;}#sk-container-id-1 pre{padding: 0;}#sk-container-id-1 div.sk-toggleable {background-color: white;}#sk-container-id-1 label.sk-toggleable__label {cursor: pointer;display: block;width: 100%;margin-bottom: 0;padding: 0.3em;box-sizing: border-box;text-align: center;}#sk-container-id-1 label.sk-toggleable__label-arrow:before {content: \"▸\";float: left;margin-right: 0.25em;color: #696969;}#sk-container-id-1 label.sk-toggleable__label-arrow:hover:before {color: black;}#sk-container-id-1 div.sk-estimator:hover label.sk-toggleable__label-arrow:before {color: black;}#sk-container-id-1 div.sk-toggleable__content {max-height: 0;max-width: 0;overflow: hidden;text-align: left;background-color: #f0f8ff;}#sk-container-id-1 div.sk-toggleable__content pre {margin: 0.2em;color: black;border-radius: 0.25em;background-color: #f0f8ff;}#sk-container-id-1 input.sk-toggleable__control:checked~div.sk-toggleable__content {max-height: 200px;max-width: 100%;overflow: auto;}#sk-container-id-1 input.sk-toggleable__control:checked~label.sk-toggleable__label-arrow:before {content: \"▾\";}#sk-container-id-1 div.sk-estimator input.sk-toggleable__control:checked~label.sk-toggleable__label {background-color: #d4ebff;}#sk-container-id-1 div.sk-label input.sk-toggleable__control:checked~label.sk-toggleable__label {background-color: #d4ebff;}#sk-container-id-1 input.sk-hidden--visually {border: 0;clip: rect(1px 1px 1px 1px);clip: rect(1px, 1px, 1px, 1px);height: 1px;margin: -1px;overflow: hidden;padding: 0;position: absolute;width: 1px;}#sk-container-id-1 div.sk-estimator {font-family: monospace;background-color: #f0f8ff;border: 1px dotted black;border-radius: 0.25em;box-sizing: border-box;margin-bottom: 0.5em;}#sk-container-id-1 div.sk-estimator:hover {background-color: #d4ebff;}#sk-container-id-1 div.sk-parallel-item::after {content: \"\";width: 100%;border-bottom: 1px solid gray;flex-grow: 1;}#sk-container-id-1 div.sk-label:hover label.sk-toggleable__label {background-color: #d4ebff;}#sk-container-id-1 div.sk-serial::before {content: \"\";position: absolute;border-left: 1px solid gray;box-sizing: border-box;top: 0;bottom: 0;left: 50%;z-index: 0;}#sk-container-id-1 div.sk-serial {display: flex;flex-direction: column;align-items: center;background-color: white;padding-right: 0.2em;padding-left: 0.2em;position: relative;}#sk-container-id-1 div.sk-item {position: relative;z-index: 1;}#sk-container-id-1 div.sk-parallel {display: flex;align-items: stretch;justify-content: center;background-color: white;position: relative;}#sk-container-id-1 div.sk-item::before, #sk-container-id-1 div.sk-parallel-item::before {content: \"\";position: absolute;border-left: 1px solid gray;box-sizing: border-box;top: 0;bottom: 0;left: 50%;z-index: -1;}#sk-container-id-1 div.sk-parallel-item {display: flex;flex-direction: column;z-index: 1;position: relative;background-color: white;}#sk-container-id-1 div.sk-parallel-item:first-child::after {align-self: flex-end;width: 50%;}#sk-container-id-1 div.sk-parallel-item:last-child::after {align-self: flex-start;width: 50%;}#sk-container-id-1 div.sk-parallel-item:only-child::after {width: 0;}#sk-container-id-1 div.sk-dashed-wrapped {border: 1px dashed gray;margin: 0 0.4em 0.5em 0.4em;box-sizing: border-box;padding-bottom: 0.4em;background-color: white;}#sk-container-id-1 div.sk-label label {font-family: monospace;font-weight: bold;display: inline-block;line-height: 1.2em;}#sk-container-id-1 div.sk-label-container {text-align: center;}#sk-container-id-1 div.sk-container {/* jupyter's `normalize.less` sets `[hidden] { display: none; }` but bootstrap.min.css set `[hidden] { display: none !important; }` so we also need the `!important` here to be able to override the default hidden behavior on the sphinx rendered scikit-learn.org. See: https://github.com/scikit-learn/scikit-learn/issues/21755 */display: inline-block !important;position: relative;}#sk-container-id-1 div.sk-text-repr-fallback {display: none;}</style><div id=\"sk-container-id-1\" class=\"sk-top-container\"><div class=\"sk-text-repr-fallback\"><pre>GridSearchCV(cv=5, estimator=KNeighborsClassifier(),\n",
       "             param_grid={&#x27;n_neighbors&#x27;: (2, 3, 4, 5, 6, 7, 8)},\n",
       "             scoring=&#x27;recall&#x27;)</pre><b>In a Jupyter environment, please rerun this cell to show the HTML representation or trust the notebook. <br />On GitHub, the HTML representation is unable to render, please try loading this page with nbviewer.org.</b></div><div class=\"sk-container\" hidden><div class=\"sk-item sk-dashed-wrapped\"><div class=\"sk-label-container\"><div class=\"sk-label sk-toggleable\"><input class=\"sk-toggleable__control sk-hidden--visually\" id=\"sk-estimator-id-1\" type=\"checkbox\" ><label for=\"sk-estimator-id-1\" class=\"sk-toggleable__label sk-toggleable__label-arrow\">GridSearchCV</label><div class=\"sk-toggleable__content\"><pre>GridSearchCV(cv=5, estimator=KNeighborsClassifier(),\n",
       "             param_grid={&#x27;n_neighbors&#x27;: (2, 3, 4, 5, 6, 7, 8)},\n",
       "             scoring=&#x27;recall&#x27;)</pre></div></div></div><div class=\"sk-parallel\"><div class=\"sk-parallel-item\"><div class=\"sk-item\"><div class=\"sk-label-container\"><div class=\"sk-label sk-toggleable\"><input class=\"sk-toggleable__control sk-hidden--visually\" id=\"sk-estimator-id-2\" type=\"checkbox\" ><label for=\"sk-estimator-id-2\" class=\"sk-toggleable__label sk-toggleable__label-arrow\">estimator: KNeighborsClassifier</label><div class=\"sk-toggleable__content\"><pre>KNeighborsClassifier()</pre></div></div></div><div class=\"sk-serial\"><div class=\"sk-item\"><div class=\"sk-estimator sk-toggleable\"><input class=\"sk-toggleable__control sk-hidden--visually\" id=\"sk-estimator-id-3\" type=\"checkbox\" ><label for=\"sk-estimator-id-3\" class=\"sk-toggleable__label sk-toggleable__label-arrow\">KNeighborsClassifier</label><div class=\"sk-toggleable__content\"><pre>KNeighborsClassifier()</pre></div></div></div></div></div></div></div></div></div></div>"
      ],
      "text/plain": [
       "GridSearchCV(cv=5, estimator=KNeighborsClassifier(),\n",
       "             param_grid={'n_neighbors': (2, 3, 4, 5, 6, 7, 8)},\n",
       "             scoring='recall')"
      ]
     },
     "execution_count": 21,
     "metadata": {},
     "output_type": "execute_result"
    }
   ],
   "source": [
    "# hyperparameter tuning\n",
    "\n",
    "params_knn = {\n",
    "    'n_neighbors': (2,3,4,5,6,7,8)\n",
    "}\n",
    "\n",
    "knn_gridcv = GridSearchCV(knn, params_knn, cv=5, scoring='recall')\n",
    "knn_gridcv.fit(X_train, y_train)"
   ]
  },
  {
   "cell_type": "code",
   "execution_count": 22,
   "id": "3fa3f474",
   "metadata": {},
   "outputs": [
    {
     "data": {
      "text/html": [
       "<div>\n",
       "<style scoped>\n",
       "    .dataframe tbody tr th:only-of-type {\n",
       "        vertical-align: middle;\n",
       "    }\n",
       "\n",
       "    .dataframe tbody tr th {\n",
       "        vertical-align: top;\n",
       "    }\n",
       "\n",
       "    .dataframe thead th {\n",
       "        text-align: right;\n",
       "    }\n",
       "</style>\n",
       "<table border=\"1\" class=\"dataframe\">\n",
       "  <thead>\n",
       "    <tr style=\"text-align: right;\">\n",
       "      <th></th>\n",
       "      <th>params</th>\n",
       "      <th>mean_test_score</th>\n",
       "      <th>rank_test_score</th>\n",
       "    </tr>\n",
       "  </thead>\n",
       "  <tbody>\n",
       "    <tr>\n",
       "      <th>1</th>\n",
       "      <td>{'n_neighbors': 3}</td>\n",
       "      <td>0.517770</td>\n",
       "      <td>1</td>\n",
       "    </tr>\n",
       "    <tr>\n",
       "      <th>5</th>\n",
       "      <td>{'n_neighbors': 7}</td>\n",
       "      <td>0.503833</td>\n",
       "      <td>2</td>\n",
       "    </tr>\n",
       "    <tr>\n",
       "      <th>3</th>\n",
       "      <td>{'n_neighbors': 5}</td>\n",
       "      <td>0.503136</td>\n",
       "      <td>3</td>\n",
       "    </tr>\n",
       "    <tr>\n",
       "      <th>6</th>\n",
       "      <td>{'n_neighbors': 8}</td>\n",
       "      <td>0.419512</td>\n",
       "      <td>4</td>\n",
       "    </tr>\n",
       "    <tr>\n",
       "      <th>4</th>\n",
       "      <td>{'n_neighbors': 6}</td>\n",
       "      <td>0.413937</td>\n",
       "      <td>5</td>\n",
       "    </tr>\n",
       "    <tr>\n",
       "      <th>2</th>\n",
       "      <td>{'n_neighbors': 4}</td>\n",
       "      <td>0.373519</td>\n",
       "      <td>6</td>\n",
       "    </tr>\n",
       "    <tr>\n",
       "      <th>0</th>\n",
       "      <td>{'n_neighbors': 2}</td>\n",
       "      <td>0.321254</td>\n",
       "      <td>7</td>\n",
       "    </tr>\n",
       "  </tbody>\n",
       "</table>\n",
       "</div>"
      ],
      "text/plain": [
       "               params  mean_test_score  rank_test_score\n",
       "1  {'n_neighbors': 3}         0.517770                1\n",
       "5  {'n_neighbors': 7}         0.503833                2\n",
       "3  {'n_neighbors': 5}         0.503136                3\n",
       "6  {'n_neighbors': 8}         0.419512                4\n",
       "4  {'n_neighbors': 6}         0.413937                5\n",
       "2  {'n_neighbors': 4}         0.373519                6\n",
       "0  {'n_neighbors': 2}         0.321254                7"
      ]
     },
     "execution_count": 22,
     "metadata": {},
     "output_type": "execute_result"
    }
   ],
   "source": [
    "# the compact results\n",
    "cv_knn = pd.DataFrame(knn_gridcv.cv_results_)\n",
    "retain_cols = ['params','mean_test_score','rank_test_score']\n",
    "cv_knn[retain_cols].sort_values('rank_test_score')"
   ]
  },
  {
   "cell_type": "markdown",
   "id": "2520a10d",
   "metadata": {},
   "source": [
    "The best score for knn is parameter with 3 neighbors. But the score is only 0.52 (around 52%).\n",
    "Let's check how if we add another parameter 'weight' in our knn model."
   ]
  },
  {
   "cell_type": "code",
   "execution_count": 23,
   "id": "34d6ab6a",
   "metadata": {},
   "outputs": [
    {
     "data": {
      "text/html": [
       "<style>#sk-container-id-2 {color: black;background-color: white;}#sk-container-id-2 pre{padding: 0;}#sk-container-id-2 div.sk-toggleable {background-color: white;}#sk-container-id-2 label.sk-toggleable__label {cursor: pointer;display: block;width: 100%;margin-bottom: 0;padding: 0.3em;box-sizing: border-box;text-align: center;}#sk-container-id-2 label.sk-toggleable__label-arrow:before {content: \"▸\";float: left;margin-right: 0.25em;color: #696969;}#sk-container-id-2 label.sk-toggleable__label-arrow:hover:before {color: black;}#sk-container-id-2 div.sk-estimator:hover label.sk-toggleable__label-arrow:before {color: black;}#sk-container-id-2 div.sk-toggleable__content {max-height: 0;max-width: 0;overflow: hidden;text-align: left;background-color: #f0f8ff;}#sk-container-id-2 div.sk-toggleable__content pre {margin: 0.2em;color: black;border-radius: 0.25em;background-color: #f0f8ff;}#sk-container-id-2 input.sk-toggleable__control:checked~div.sk-toggleable__content {max-height: 200px;max-width: 100%;overflow: auto;}#sk-container-id-2 input.sk-toggleable__control:checked~label.sk-toggleable__label-arrow:before {content: \"▾\";}#sk-container-id-2 div.sk-estimator input.sk-toggleable__control:checked~label.sk-toggleable__label {background-color: #d4ebff;}#sk-container-id-2 div.sk-label input.sk-toggleable__control:checked~label.sk-toggleable__label {background-color: #d4ebff;}#sk-container-id-2 input.sk-hidden--visually {border: 0;clip: rect(1px 1px 1px 1px);clip: rect(1px, 1px, 1px, 1px);height: 1px;margin: -1px;overflow: hidden;padding: 0;position: absolute;width: 1px;}#sk-container-id-2 div.sk-estimator {font-family: monospace;background-color: #f0f8ff;border: 1px dotted black;border-radius: 0.25em;box-sizing: border-box;margin-bottom: 0.5em;}#sk-container-id-2 div.sk-estimator:hover {background-color: #d4ebff;}#sk-container-id-2 div.sk-parallel-item::after {content: \"\";width: 100%;border-bottom: 1px solid gray;flex-grow: 1;}#sk-container-id-2 div.sk-label:hover label.sk-toggleable__label {background-color: #d4ebff;}#sk-container-id-2 div.sk-serial::before {content: \"\";position: absolute;border-left: 1px solid gray;box-sizing: border-box;top: 0;bottom: 0;left: 50%;z-index: 0;}#sk-container-id-2 div.sk-serial {display: flex;flex-direction: column;align-items: center;background-color: white;padding-right: 0.2em;padding-left: 0.2em;position: relative;}#sk-container-id-2 div.sk-item {position: relative;z-index: 1;}#sk-container-id-2 div.sk-parallel {display: flex;align-items: stretch;justify-content: center;background-color: white;position: relative;}#sk-container-id-2 div.sk-item::before, #sk-container-id-2 div.sk-parallel-item::before {content: \"\";position: absolute;border-left: 1px solid gray;box-sizing: border-box;top: 0;bottom: 0;left: 50%;z-index: -1;}#sk-container-id-2 div.sk-parallel-item {display: flex;flex-direction: column;z-index: 1;position: relative;background-color: white;}#sk-container-id-2 div.sk-parallel-item:first-child::after {align-self: flex-end;width: 50%;}#sk-container-id-2 div.sk-parallel-item:last-child::after {align-self: flex-start;width: 50%;}#sk-container-id-2 div.sk-parallel-item:only-child::after {width: 0;}#sk-container-id-2 div.sk-dashed-wrapped {border: 1px dashed gray;margin: 0 0.4em 0.5em 0.4em;box-sizing: border-box;padding-bottom: 0.4em;background-color: white;}#sk-container-id-2 div.sk-label label {font-family: monospace;font-weight: bold;display: inline-block;line-height: 1.2em;}#sk-container-id-2 div.sk-label-container {text-align: center;}#sk-container-id-2 div.sk-container {/* jupyter's `normalize.less` sets `[hidden] { display: none; }` but bootstrap.min.css set `[hidden] { display: none !important; }` so we also need the `!important` here to be able to override the default hidden behavior on the sphinx rendered scikit-learn.org. See: https://github.com/scikit-learn/scikit-learn/issues/21755 */display: inline-block !important;position: relative;}#sk-container-id-2 div.sk-text-repr-fallback {display: none;}</style><div id=\"sk-container-id-2\" class=\"sk-top-container\"><div class=\"sk-text-repr-fallback\"><pre>GridSearchCV(cv=5, estimator=KNeighborsClassifier(),\n",
       "             param_grid={&#x27;n_neighbors&#x27;: (2, 3, 4, 5, 6, 7, 8),\n",
       "                         &#x27;weights&#x27;: (&#x27;uniform&#x27;, &#x27;distance&#x27;)},\n",
       "             scoring=&#x27;recall&#x27;)</pre><b>In a Jupyter environment, please rerun this cell to show the HTML representation or trust the notebook. <br />On GitHub, the HTML representation is unable to render, please try loading this page with nbviewer.org.</b></div><div class=\"sk-container\" hidden><div class=\"sk-item sk-dashed-wrapped\"><div class=\"sk-label-container\"><div class=\"sk-label sk-toggleable\"><input class=\"sk-toggleable__control sk-hidden--visually\" id=\"sk-estimator-id-4\" type=\"checkbox\" ><label for=\"sk-estimator-id-4\" class=\"sk-toggleable__label sk-toggleable__label-arrow\">GridSearchCV</label><div class=\"sk-toggleable__content\"><pre>GridSearchCV(cv=5, estimator=KNeighborsClassifier(),\n",
       "             param_grid={&#x27;n_neighbors&#x27;: (2, 3, 4, 5, 6, 7, 8),\n",
       "                         &#x27;weights&#x27;: (&#x27;uniform&#x27;, &#x27;distance&#x27;)},\n",
       "             scoring=&#x27;recall&#x27;)</pre></div></div></div><div class=\"sk-parallel\"><div class=\"sk-parallel-item\"><div class=\"sk-item\"><div class=\"sk-label-container\"><div class=\"sk-label sk-toggleable\"><input class=\"sk-toggleable__control sk-hidden--visually\" id=\"sk-estimator-id-5\" type=\"checkbox\" ><label for=\"sk-estimator-id-5\" class=\"sk-toggleable__label sk-toggleable__label-arrow\">estimator: KNeighborsClassifier</label><div class=\"sk-toggleable__content\"><pre>KNeighborsClassifier()</pre></div></div></div><div class=\"sk-serial\"><div class=\"sk-item\"><div class=\"sk-estimator sk-toggleable\"><input class=\"sk-toggleable__control sk-hidden--visually\" id=\"sk-estimator-id-6\" type=\"checkbox\" ><label for=\"sk-estimator-id-6\" class=\"sk-toggleable__label sk-toggleable__label-arrow\">KNeighborsClassifier</label><div class=\"sk-toggleable__content\"><pre>KNeighborsClassifier()</pre></div></div></div></div></div></div></div></div></div></div>"
      ],
      "text/plain": [
       "GridSearchCV(cv=5, estimator=KNeighborsClassifier(),\n",
       "             param_grid={'n_neighbors': (2, 3, 4, 5, 6, 7, 8),\n",
       "                         'weights': ('uniform', 'distance')},\n",
       "             scoring='recall')"
      ]
     },
     "execution_count": 23,
     "metadata": {},
     "output_type": "execute_result"
    }
   ],
   "source": [
    "# what if we also want to tune \"weights\" hyperparameter\n",
    "# \"uniform\": all K neighbors have the same influence\n",
    "# \"distance\": closer neighbor in those K neighbors has stronger influence\n",
    "\n",
    "params_knn = {\n",
    "    'n_neighbors': (2,3,4,5,6,7,8),\n",
    "    'weights':('uniform','distance')\n",
    "}\n",
    "\n",
    "# now we use recall (sensitivity) as metric\n",
    "knn_w_gridcv = GridSearchCV(knn, params_knn, cv=5, scoring='recall')\n",
    "knn_w_gridcv.fit(X_train, y_train)"
   ]
  },
  {
   "cell_type": "code",
   "execution_count": 24,
   "id": "70c62c08",
   "metadata": {},
   "outputs": [
    {
     "data": {
      "text/html": [
       "<div>\n",
       "<style scoped>\n",
       "    .dataframe tbody tr th:only-of-type {\n",
       "        vertical-align: middle;\n",
       "    }\n",
       "\n",
       "    .dataframe tbody tr th {\n",
       "        vertical-align: top;\n",
       "    }\n",
       "\n",
       "    .dataframe thead th {\n",
       "        text-align: right;\n",
       "    }\n",
       "</style>\n",
       "<table border=\"1\" class=\"dataframe\">\n",
       "  <thead>\n",
       "    <tr style=\"text-align: right;\">\n",
       "      <th></th>\n",
       "      <th>params</th>\n",
       "      <th>mean_test_score</th>\n",
       "      <th>rank_test_score</th>\n",
       "    </tr>\n",
       "  </thead>\n",
       "  <tbody>\n",
       "    <tr>\n",
       "      <th>2</th>\n",
       "      <td>{'n_neighbors': 3, 'weights': 'uniform'}</td>\n",
       "      <td>0.517770</td>\n",
       "      <td>1</td>\n",
       "    </tr>\n",
       "    <tr>\n",
       "      <th>3</th>\n",
       "      <td>{'n_neighbors': 3, 'weights': 'distance'}</td>\n",
       "      <td>0.513589</td>\n",
       "      <td>2</td>\n",
       "    </tr>\n",
       "    <tr>\n",
       "      <th>1</th>\n",
       "      <td>{'n_neighbors': 2, 'weights': 'distance'}</td>\n",
       "      <td>0.508014</td>\n",
       "      <td>3</td>\n",
       "    </tr>\n",
       "    <tr>\n",
       "      <th>5</th>\n",
       "      <td>{'n_neighbors': 4, 'weights': 'distance'}</td>\n",
       "      <td>0.505923</td>\n",
       "      <td>4</td>\n",
       "    </tr>\n",
       "    <tr>\n",
       "      <th>10</th>\n",
       "      <td>{'n_neighbors': 7, 'weights': 'uniform'}</td>\n",
       "      <td>0.503833</td>\n",
       "      <td>5</td>\n",
       "    </tr>\n",
       "    <tr>\n",
       "      <th>11</th>\n",
       "      <td>{'n_neighbors': 7, 'weights': 'distance'}</td>\n",
       "      <td>0.503833</td>\n",
       "      <td>5</td>\n",
       "    </tr>\n",
       "    <tr>\n",
       "      <th>6</th>\n",
       "      <td>{'n_neighbors': 5, 'weights': 'uniform'}</td>\n",
       "      <td>0.503136</td>\n",
       "      <td>7</td>\n",
       "    </tr>\n",
       "    <tr>\n",
       "      <th>9</th>\n",
       "      <td>{'n_neighbors': 6, 'weights': 'distance'}</td>\n",
       "      <td>0.502439</td>\n",
       "      <td>8</td>\n",
       "    </tr>\n",
       "    <tr>\n",
       "      <th>7</th>\n",
       "      <td>{'n_neighbors': 5, 'weights': 'distance'}</td>\n",
       "      <td>0.501045</td>\n",
       "      <td>9</td>\n",
       "    </tr>\n",
       "    <tr>\n",
       "      <th>13</th>\n",
       "      <td>{'n_neighbors': 8, 'weights': 'distance'}</td>\n",
       "      <td>0.501045</td>\n",
       "      <td>9</td>\n",
       "    </tr>\n",
       "    <tr>\n",
       "      <th>12</th>\n",
       "      <td>{'n_neighbors': 8, 'weights': 'uniform'}</td>\n",
       "      <td>0.419512</td>\n",
       "      <td>11</td>\n",
       "    </tr>\n",
       "    <tr>\n",
       "      <th>8</th>\n",
       "      <td>{'n_neighbors': 6, 'weights': 'uniform'}</td>\n",
       "      <td>0.413937</td>\n",
       "      <td>12</td>\n",
       "    </tr>\n",
       "    <tr>\n",
       "      <th>4</th>\n",
       "      <td>{'n_neighbors': 4, 'weights': 'uniform'}</td>\n",
       "      <td>0.373519</td>\n",
       "      <td>13</td>\n",
       "    </tr>\n",
       "    <tr>\n",
       "      <th>0</th>\n",
       "      <td>{'n_neighbors': 2, 'weights': 'uniform'}</td>\n",
       "      <td>0.321254</td>\n",
       "      <td>14</td>\n",
       "    </tr>\n",
       "  </tbody>\n",
       "</table>\n",
       "</div>"
      ],
      "text/plain": [
       "                                       params  mean_test_score  \\\n",
       "2    {'n_neighbors': 3, 'weights': 'uniform'}         0.517770   \n",
       "3   {'n_neighbors': 3, 'weights': 'distance'}         0.513589   \n",
       "1   {'n_neighbors': 2, 'weights': 'distance'}         0.508014   \n",
       "5   {'n_neighbors': 4, 'weights': 'distance'}         0.505923   \n",
       "10   {'n_neighbors': 7, 'weights': 'uniform'}         0.503833   \n",
       "11  {'n_neighbors': 7, 'weights': 'distance'}         0.503833   \n",
       "6    {'n_neighbors': 5, 'weights': 'uniform'}         0.503136   \n",
       "9   {'n_neighbors': 6, 'weights': 'distance'}         0.502439   \n",
       "7   {'n_neighbors': 5, 'weights': 'distance'}         0.501045   \n",
       "13  {'n_neighbors': 8, 'weights': 'distance'}         0.501045   \n",
       "12   {'n_neighbors': 8, 'weights': 'uniform'}         0.419512   \n",
       "8    {'n_neighbors': 6, 'weights': 'uniform'}         0.413937   \n",
       "4    {'n_neighbors': 4, 'weights': 'uniform'}         0.373519   \n",
       "0    {'n_neighbors': 2, 'weights': 'uniform'}         0.321254   \n",
       "\n",
       "    rank_test_score  \n",
       "2                 1  \n",
       "3                 2  \n",
       "1                 3  \n",
       "5                 4  \n",
       "10                5  \n",
       "11                5  \n",
       "6                 7  \n",
       "9                 8  \n",
       "7                 9  \n",
       "13                9  \n",
       "12               11  \n",
       "8                12  \n",
       "4                13  \n",
       "0                14  "
      ]
     },
     "execution_count": 24,
     "metadata": {},
     "output_type": "execute_result"
    }
   ],
   "source": [
    "# the compact results\n",
    "cv_w_knn = pd.DataFrame(knn_w_gridcv.cv_results_)\n",
    "retain_cols = ['params','mean_test_score','rank_test_score']\n",
    "cv_w_knn[retain_cols].sort_values('rank_test_score')"
   ]
  },
  {
   "cell_type": "markdown",
   "id": "3f0a7668",
   "metadata": {},
   "source": [
    "The best score shows the same result, 3 neighbors with uniform for the weight. The score is also the same +- 52%."
   ]
  },
  {
   "cell_type": "markdown",
   "id": "4c887734",
   "metadata": {},
   "source": [
    "## Evaluation on Test Data - KNN"
   ]
  },
  {
   "cell_type": "code",
   "execution_count": 25,
   "id": "056e2c71",
   "metadata": {},
   "outputs": [
    {
     "data": {
      "image/png": "[encoded data removed]",
      "text/plain": [
       "<Figure size 504x360 with 2 Axes>"
      ]
     },
     "metadata": {
      "needs_background": "light"
     },
     "output_type": "display_data"
    }
   ],
   "source": [
    "# plotting confusion matrix\n",
    "\n",
    "fig, ax = plt.subplots(figsize=(7,5))\n",
    "y_pred_knn = knn_w_gridcv.best_estimator_.predict(X_test)\n",
    "\n",
    "cm_knn = confusion_matrix(y_test, y_pred_knn, labels=knn_w_gridcv.best_estimator_.classes_)\n",
    "disp_knn = ConfusionMatrixDisplay(confusion_matrix=cm_knn,\n",
    "                             display_labels=knn_w_gridcv.best_estimator_.classes_)\n",
    "disp_knn.plot(ax=ax)\n",
    "plt.show()"
   ]
  },
  {
   "cell_type": "markdown",
   "id": "34dbc817",
   "metadata": {},
   "source": [
    "From total 1380 test data, here is the prediction result that shown as a confusion matrix.\n",
    "- True Positive (TP) - Predicted 'Churn'; Actual 'Churn': 186 ppl\n",
    "- False Negative (FN) - Predicted 'Not Churn'; Actual 'Churn' : 204 ppl\n",
    "- False Positive (FP) - Predicted 'Churn'; Actual 'Not Churn' : 148 ppl\n",
    "- True Negative (TN) - Predicted 'Not Churn'; Actual 'Not Churn' : 842 ppl"
   ]
  },
  {
   "cell_type": "code",
   "execution_count": 26,
   "id": "58df2d19",
   "metadata": {},
   "outputs": [
    {
     "name": "stdout",
     "output_type": "stream",
     "text": [
      "              precision    recall  f1-score   support\n",
      "\n",
      "           0       0.80      0.85      0.83       990\n",
      "           1       0.56      0.48      0.51       390\n",
      "\n",
      "    accuracy                           0.74      1380\n",
      "   macro avg       0.68      0.66      0.67      1380\n",
      "weighted avg       0.73      0.74      0.74      1380\n",
      "\n"
     ]
    }
   ],
   "source": [
    "# classification report\n",
    "\n",
    "y_pred_knn = knn_w_gridcv.best_estimator_.predict(X_test)\n",
    "print(classification_report(y_test, y_pred_knn))"
   ]
  },
  {
   "cell_type": "markdown",
   "id": "af4cee5d",
   "metadata": {},
   "source": [
    "On the test data we got 0.48 for recall metric. It means that the model's reliability to detect churn is still low 48%. The probability of the model being incorrectly predicted not to churn even though the actual churn is still very high.\n",
    "\n",
    "The precision score is also still low around 56%, it means that from all data that are predicted as churn, only 56% that are really churn.\n",
    "\n",
    "The f1 score is 51% which is the harmonic mean of precision and recall. \n",
    "\n",
    "If we look at the accuracy value, it is certainly much better at around 74%, this figure is quite misleading, when in fact if we look at the confusion matrix, the model built has not been able to detect churn properly."
   ]
  },
  {
   "cell_type": "markdown",
   "id": "5e8c5c37",
   "metadata": {},
   "source": [
    "# Random Forest Classifier"
   ]
  },
  {
   "cell_type": "markdown",
   "id": "73d80c9e",
   "metadata": {},
   "source": [
    "## Hyperparameter Tuning - RF"
   ]
  },
  {
   "cell_type": "code",
   "execution_count": 27,
   "id": "876faaea",
   "metadata": {},
   "outputs": [],
   "source": [
    "# define random forest classifier model\n",
    "\n",
    "rf = RandomForestClassifier(random_state=42)"
   ]
  },
  {
   "cell_type": "code",
   "execution_count": 28,
   "id": "6226e123",
   "metadata": {},
   "outputs": [
    {
     "data": {
      "text/html": [
       "<style>#sk-container-id-3 {color: black;background-color: white;}#sk-container-id-3 pre{padding: 0;}#sk-container-id-3 div.sk-toggleable {background-color: white;}#sk-container-id-3 label.sk-toggleable__label {cursor: pointer;display: block;width: 100%;margin-bottom: 0;padding: 0.3em;box-sizing: border-box;text-align: center;}#sk-container-id-3 label.sk-toggleable__label-arrow:before {content: \"▸\";float: left;margin-right: 0.25em;color: #696969;}#sk-container-id-3 label.sk-toggleable__label-arrow:hover:before {color: black;}#sk-container-id-3 div.sk-estimator:hover label.sk-toggleable__label-arrow:before {color: black;}#sk-container-id-3 div.sk-toggleable__content {max-height: 0;max-width: 0;overflow: hidden;text-align: left;background-color: #f0f8ff;}#sk-container-id-3 div.sk-toggleable__content pre {margin: 0.2em;color: black;border-radius: 0.25em;background-color: #f0f8ff;}#sk-container-id-3 input.sk-toggleable__control:checked~div.sk-toggleable__content {max-height: 200px;max-width: 100%;overflow: auto;}#sk-container-id-3 input.sk-toggleable__control:checked~label.sk-toggleable__label-arrow:before {content: \"▾\";}#sk-container-id-3 div.sk-estimator input.sk-toggleable__control:checked~label.sk-toggleable__label {background-color: #d4ebff;}#sk-container-id-3 div.sk-label input.sk-toggleable__control:checked~label.sk-toggleable__label {background-color: #d4ebff;}#sk-container-id-3 input.sk-hidden--visually {border: 0;clip: rect(1px 1px 1px 1px);clip: rect(1px, 1px, 1px, 1px);height: 1px;margin: -1px;overflow: hidden;padding: 0;position: absolute;width: 1px;}#sk-container-id-3 div.sk-estimator {font-family: monospace;background-color: #f0f8ff;border: 1px dotted black;border-radius: 0.25em;box-sizing: border-box;margin-bottom: 0.5em;}#sk-container-id-3 div.sk-estimator:hover {background-color: #d4ebff;}#sk-container-id-3 div.sk-parallel-item::after {content: \"\";width: 100%;border-bottom: 1px solid gray;flex-grow: 1;}#sk-container-id-3 div.sk-label:hover label.sk-toggleable__label {background-color: #d4ebff;}#sk-container-id-3 div.sk-serial::before {content: \"\";position: absolute;border-left: 1px solid gray;box-sizing: border-box;top: 0;bottom: 0;left: 50%;z-index: 0;}#sk-container-id-3 div.sk-serial {display: flex;flex-direction: column;align-items: center;background-color: white;padding-right: 0.2em;padding-left: 0.2em;position: relative;}#sk-container-id-3 div.sk-item {position: relative;z-index: 1;}#sk-container-id-3 div.sk-parallel {display: flex;align-items: stretch;justify-content: center;background-color: white;position: relative;}#sk-container-id-3 div.sk-item::before, #sk-container-id-3 div.sk-parallel-item::before {content: \"\";position: absolute;border-left: 1px solid gray;box-sizing: border-box;top: 0;bottom: 0;left: 50%;z-index: -1;}#sk-container-id-3 div.sk-parallel-item {display: flex;flex-direction: column;z-index: 1;position: relative;background-color: white;}#sk-container-id-3 div.sk-parallel-item:first-child::after {align-self: flex-end;width: 50%;}#sk-container-id-3 div.sk-parallel-item:last-child::after {align-self: flex-start;width: 50%;}#sk-container-id-3 div.sk-parallel-item:only-child::after {width: 0;}#sk-container-id-3 div.sk-dashed-wrapped {border: 1px dashed gray;margin: 0 0.4em 0.5em 0.4em;box-sizing: border-box;padding-bottom: 0.4em;background-color: white;}#sk-container-id-3 div.sk-label label {font-family: monospace;font-weight: bold;display: inline-block;line-height: 1.2em;}#sk-container-id-3 div.sk-label-container {text-align: center;}#sk-container-id-3 div.sk-container {/* jupyter's `normalize.less` sets `[hidden] { display: none; }` but bootstrap.min.css set `[hidden] { display: none !important; }` so we also need the `!important` here to be able to override the default hidden behavior on the sphinx rendered scikit-learn.org. See: https://github.com/scikit-learn/scikit-learn/issues/21755 */display: inline-block !important;position: relative;}#sk-container-id-3 div.sk-text-repr-fallback {display: none;}</style><div id=\"sk-container-id-3\" class=\"sk-top-container\"><div class=\"sk-text-repr-fallback\"><pre>GridSearchCV(cv=5, estimator=RandomForestClassifier(random_state=42),\n",
       "             param_grid={&#x27;max_depth&#x27;: (1, 2, 3, 4, 5),\n",
       "                         &#x27;n_estimators&#x27;: (10, 20, 30, 40, 50)},\n",
       "             scoring=&#x27;recall&#x27;)</pre><b>In a Jupyter environment, please rerun this cell to show the HTML representation or trust the notebook. <br />On GitHub, the HTML representation is unable to render, please try loading this page with nbviewer.org.</b></div><div class=\"sk-container\" hidden><div class=\"sk-item sk-dashed-wrapped\"><div class=\"sk-label-container\"><div class=\"sk-label sk-toggleable\"><input class=\"sk-toggleable__control sk-hidden--visually\" id=\"sk-estimator-id-7\" type=\"checkbox\" ><label for=\"sk-estimator-id-7\" class=\"sk-toggleable__label sk-toggleable__label-arrow\">GridSearchCV</label><div class=\"sk-toggleable__content\"><pre>GridSearchCV(cv=5, estimator=RandomForestClassifier(random_state=42),\n",
       "             param_grid={&#x27;max_depth&#x27;: (1, 2, 3, 4, 5),\n",
       "                         &#x27;n_estimators&#x27;: (10, 20, 30, 40, 50)},\n",
       "             scoring=&#x27;recall&#x27;)</pre></div></div></div><div class=\"sk-parallel\"><div class=\"sk-parallel-item\"><div class=\"sk-item\"><div class=\"sk-label-container\"><div class=\"sk-label sk-toggleable\"><input class=\"sk-toggleable__control sk-hidden--visually\" id=\"sk-estimator-id-8\" type=\"checkbox\" ><label for=\"sk-estimator-id-8\" class=\"sk-toggleable__label sk-toggleable__label-arrow\">estimator: RandomForestClassifier</label><div class=\"sk-toggleable__content\"><pre>RandomForestClassifier(random_state=42)</pre></div></div></div><div class=\"sk-serial\"><div class=\"sk-item\"><div class=\"sk-estimator sk-toggleable\"><input class=\"sk-toggleable__control sk-hidden--visually\" id=\"sk-estimator-id-9\" type=\"checkbox\" ><label for=\"sk-estimator-id-9\" class=\"sk-toggleable__label sk-toggleable__label-arrow\">RandomForestClassifier</label><div class=\"sk-toggleable__content\"><pre>RandomForestClassifier(random_state=42)</pre></div></div></div></div></div></div></div></div></div></div>"
      ],
      "text/plain": [
       "GridSearchCV(cv=5, estimator=RandomForestClassifier(random_state=42),\n",
       "             param_grid={'max_depth': (1, 2, 3, 4, 5),\n",
       "                         'n_estimators': (10, 20, 30, 40, 50)},\n",
       "             scoring='recall')"
      ]
     },
     "execution_count": 28,
     "metadata": {},
     "output_type": "execute_result"
    }
   ],
   "source": [
    "# hyperparameter tuning\n",
    "\n",
    "params_rf = {\n",
    "    'n_estimators': (10,20,30,40,50),\n",
    "    'max_depth':(1,2,3,4,5)\n",
    "}\n",
    "\n",
    "# note: we use recall\n",
    "rf_gridcv = GridSearchCV(rf, params_rf, cv=5, scoring='recall')\n",
    "rf_gridcv.fit(X_train, y_train)"
   ]
  },
  {
   "cell_type": "code",
   "execution_count": 29,
   "id": "d1ad8d0f",
   "metadata": {},
   "outputs": [
    {
     "data": {
      "text/html": [
       "<div>\n",
       "<style scoped>\n",
       "    .dataframe tbody tr th:only-of-type {\n",
       "        vertical-align: middle;\n",
       "    }\n",
       "\n",
       "    .dataframe tbody tr th {\n",
       "        vertical-align: top;\n",
       "    }\n",
       "\n",
       "    .dataframe thead th {\n",
       "        text-align: right;\n",
       "    }\n",
       "</style>\n",
       "<table border=\"1\" class=\"dataframe\">\n",
       "  <thead>\n",
       "    <tr style=\"text-align: right;\">\n",
       "      <th></th>\n",
       "      <th>params</th>\n",
       "      <th>mean_test_score</th>\n",
       "      <th>rank_test_score</th>\n",
       "    </tr>\n",
       "  </thead>\n",
       "  <tbody>\n",
       "    <tr>\n",
       "      <th>20</th>\n",
       "      <td>{'max_depth': 5, 'n_estimators': 10}</td>\n",
       "      <td>0.401394</td>\n",
       "      <td>1</td>\n",
       "    </tr>\n",
       "    <tr>\n",
       "      <th>21</th>\n",
       "      <td>{'max_depth': 5, 'n_estimators': 20}</td>\n",
       "      <td>0.381185</td>\n",
       "      <td>2</td>\n",
       "    </tr>\n",
       "    <tr>\n",
       "      <th>23</th>\n",
       "      <td>{'max_depth': 5, 'n_estimators': 40}</td>\n",
       "      <td>0.375610</td>\n",
       "      <td>3</td>\n",
       "    </tr>\n",
       "    <tr>\n",
       "      <th>24</th>\n",
       "      <td>{'max_depth': 5, 'n_estimators': 50}</td>\n",
       "      <td>0.373519</td>\n",
       "      <td>4</td>\n",
       "    </tr>\n",
       "    <tr>\n",
       "      <th>22</th>\n",
       "      <td>{'max_depth': 5, 'n_estimators': 30}</td>\n",
       "      <td>0.370732</td>\n",
       "      <td>5</td>\n",
       "    </tr>\n",
       "    <tr>\n",
       "      <th>15</th>\n",
       "      <td>{'max_depth': 4, 'n_estimators': 10}</td>\n",
       "      <td>0.329617</td>\n",
       "      <td>6</td>\n",
       "    </tr>\n",
       "    <tr>\n",
       "      <th>10</th>\n",
       "      <td>{'max_depth': 3, 'n_estimators': 10}</td>\n",
       "      <td>0.328920</td>\n",
       "      <td>7</td>\n",
       "    </tr>\n",
       "    <tr>\n",
       "      <th>16</th>\n",
       "      <td>{'max_depth': 4, 'n_estimators': 20}</td>\n",
       "      <td>0.297561</td>\n",
       "      <td>8</td>\n",
       "    </tr>\n",
       "    <tr>\n",
       "      <th>18</th>\n",
       "      <td>{'max_depth': 4, 'n_estimators': 40}</td>\n",
       "      <td>0.296167</td>\n",
       "      <td>9</td>\n",
       "    </tr>\n",
       "    <tr>\n",
       "      <th>19</th>\n",
       "      <td>{'max_depth': 4, 'n_estimators': 50}</td>\n",
       "      <td>0.296167</td>\n",
       "      <td>10</td>\n",
       "    </tr>\n",
       "    <tr>\n",
       "      <th>17</th>\n",
       "      <td>{'max_depth': 4, 'n_estimators': 30}</td>\n",
       "      <td>0.295470</td>\n",
       "      <td>11</td>\n",
       "    </tr>\n",
       "    <tr>\n",
       "      <th>11</th>\n",
       "      <td>{'max_depth': 3, 'n_estimators': 20}</td>\n",
       "      <td>0.277352</td>\n",
       "      <td>12</td>\n",
       "    </tr>\n",
       "    <tr>\n",
       "      <th>14</th>\n",
       "      <td>{'max_depth': 3, 'n_estimators': 50}</td>\n",
       "      <td>0.251568</td>\n",
       "      <td>13</td>\n",
       "    </tr>\n",
       "    <tr>\n",
       "      <th>13</th>\n",
       "      <td>{'max_depth': 3, 'n_estimators': 40}</td>\n",
       "      <td>0.220209</td>\n",
       "      <td>14</td>\n",
       "    </tr>\n",
       "    <tr>\n",
       "      <th>12</th>\n",
       "      <td>{'max_depth': 3, 'n_estimators': 30}</td>\n",
       "      <td>0.192334</td>\n",
       "      <td>15</td>\n",
       "    </tr>\n",
       "    <tr>\n",
       "      <th>5</th>\n",
       "      <td>{'max_depth': 2, 'n_estimators': 10}</td>\n",
       "      <td>0.098258</td>\n",
       "      <td>16</td>\n",
       "    </tr>\n",
       "    <tr>\n",
       "      <th>6</th>\n",
       "      <td>{'max_depth': 2, 'n_estimators': 20}</td>\n",
       "      <td>0.004878</td>\n",
       "      <td>17</td>\n",
       "    </tr>\n",
       "    <tr>\n",
       "      <th>8</th>\n",
       "      <td>{'max_depth': 2, 'n_estimators': 40}</td>\n",
       "      <td>0.000000</td>\n",
       "      <td>18</td>\n",
       "    </tr>\n",
       "    <tr>\n",
       "      <th>7</th>\n",
       "      <td>{'max_depth': 2, 'n_estimators': 30}</td>\n",
       "      <td>0.000000</td>\n",
       "      <td>18</td>\n",
       "    </tr>\n",
       "    <tr>\n",
       "      <th>4</th>\n",
       "      <td>{'max_depth': 1, 'n_estimators': 50}</td>\n",
       "      <td>0.000000</td>\n",
       "      <td>18</td>\n",
       "    </tr>\n",
       "    <tr>\n",
       "      <th>3</th>\n",
       "      <td>{'max_depth': 1, 'n_estimators': 40}</td>\n",
       "      <td>0.000000</td>\n",
       "      <td>18</td>\n",
       "    </tr>\n",
       "    <tr>\n",
       "      <th>2</th>\n",
       "      <td>{'max_depth': 1, 'n_estimators': 30}</td>\n",
       "      <td>0.000000</td>\n",
       "      <td>18</td>\n",
       "    </tr>\n",
       "    <tr>\n",
       "      <th>1</th>\n",
       "      <td>{'max_depth': 1, 'n_estimators': 20}</td>\n",
       "      <td>0.000000</td>\n",
       "      <td>18</td>\n",
       "    </tr>\n",
       "    <tr>\n",
       "      <th>9</th>\n",
       "      <td>{'max_depth': 2, 'n_estimators': 50}</td>\n",
       "      <td>0.000000</td>\n",
       "      <td>18</td>\n",
       "    </tr>\n",
       "    <tr>\n",
       "      <th>0</th>\n",
       "      <td>{'max_depth': 1, 'n_estimators': 10}</td>\n",
       "      <td>0.000000</td>\n",
       "      <td>18</td>\n",
       "    </tr>\n",
       "  </tbody>\n",
       "</table>\n",
       "</div>"
      ],
      "text/plain": [
       "                                  params  mean_test_score  rank_test_score\n",
       "20  {'max_depth': 5, 'n_estimators': 10}         0.401394                1\n",
       "21  {'max_depth': 5, 'n_estimators': 20}         0.381185                2\n",
       "23  {'max_depth': 5, 'n_estimators': 40}         0.375610                3\n",
       "24  {'max_depth': 5, 'n_estimators': 50}         0.373519                4\n",
       "22  {'max_depth': 5, 'n_estimators': 30}         0.370732                5\n",
       "15  {'max_depth': 4, 'n_estimators': 10}         0.329617                6\n",
       "10  {'max_depth': 3, 'n_estimators': 10}         0.328920                7\n",
       "16  {'max_depth': 4, 'n_estimators': 20}         0.297561                8\n",
       "18  {'max_depth': 4, 'n_estimators': 40}         0.296167                9\n",
       "19  {'max_depth': 4, 'n_estimators': 50}         0.296167               10\n",
       "17  {'max_depth': 4, 'n_estimators': 30}         0.295470               11\n",
       "11  {'max_depth': 3, 'n_estimators': 20}         0.277352               12\n",
       "14  {'max_depth': 3, 'n_estimators': 50}         0.251568               13\n",
       "13  {'max_depth': 3, 'n_estimators': 40}         0.220209               14\n",
       "12  {'max_depth': 3, 'n_estimators': 30}         0.192334               15\n",
       "5   {'max_depth': 2, 'n_estimators': 10}         0.098258               16\n",
       "6   {'max_depth': 2, 'n_estimators': 20}         0.004878               17\n",
       "8   {'max_depth': 2, 'n_estimators': 40}         0.000000               18\n",
       "7   {'max_depth': 2, 'n_estimators': 30}         0.000000               18\n",
       "4   {'max_depth': 1, 'n_estimators': 50}         0.000000               18\n",
       "3   {'max_depth': 1, 'n_estimators': 40}         0.000000               18\n",
       "2   {'max_depth': 1, 'n_estimators': 30}         0.000000               18\n",
       "1   {'max_depth': 1, 'n_estimators': 20}         0.000000               18\n",
       "9   {'max_depth': 2, 'n_estimators': 50}         0.000000               18\n",
       "0   {'max_depth': 1, 'n_estimators': 10}         0.000000               18"
      ]
     },
     "execution_count": 29,
     "metadata": {},
     "output_type": "execute_result"
    }
   ],
   "source": [
    "# the results\n",
    "cv_rf = pd.DataFrame(rf_gridcv.cv_results_)\n",
    "retain_cols = ['params','mean_test_score','rank_test_score']\n",
    "cv_rf[retain_cols].sort_values('rank_test_score')"
   ]
  },
  {
   "cell_type": "markdown",
   "id": "61600f08",
   "metadata": {},
   "source": [
    "The best score for random forest is parameter with max_depth: 5, n_estimators: 10. But the score is only 0.40 (around 40%). It looks even worse than KNN model. Let's check the evaluation on the test data."
   ]
  },
  {
   "cell_type": "markdown",
   "id": "da383507",
   "metadata": {},
   "source": [
    "## Evaluation on Test Data - RF"
   ]
  },
  {
   "cell_type": "code",
   "execution_count": 30,
   "id": "5ef1524b",
   "metadata": {},
   "outputs": [
    {
     "data": {
      "image/png": "[encoded data removed]",
      "text/plain": [
       "<Figure size 504x360 with 2 Axes>"
      ]
     },
     "metadata": {
      "needs_background": "light"
     },
     "output_type": "display_data"
    }
   ],
   "source": [
    "# plotting confusion matrix\n",
    "\n",
    "fig, ax = plt.subplots(figsize=(7,5))\n",
    "y_pred_rf = rf_gridcv.best_estimator_.predict(X_test)\n",
    "\n",
    "cm_rf = confusion_matrix(y_test, y_pred_rf, labels=rf_gridcv.best_estimator_.classes_)\n",
    "disp_rf = ConfusionMatrixDisplay(confusion_matrix=cm_rf,\n",
    "                             display_labels=rf_gridcv.best_estimator_.classes_)\n",
    "disp_rf.plot(ax=ax)\n",
    "plt.show()"
   ]
  },
  {
   "cell_type": "markdown",
   "id": "afaf64b1",
   "metadata": {},
   "source": [
    "From total 1380 test data, here is the prediction result that shown as a confusion matrix.\n",
    "- True Positive (TP) - Predicted 'Churn'; Actual 'Churn': 153 ppl\n",
    "- False Negative (FN) - Predicted 'Not Churn'; Actual 'Churn' : 237 ppl\n",
    "- False Positive (FP) - Predicted 'Churn'; Actual 'Not Churn' : 97 ppl\n",
    "- True Negative (TN) - Predicted 'Not Churn'; Actual 'Not Churn' : 893 ppl"
   ]
  },
  {
   "cell_type": "code",
   "execution_count": 31,
   "id": "3b167e55",
   "metadata": {},
   "outputs": [
    {
     "name": "stdout",
     "output_type": "stream",
     "text": [
      "              precision    recall  f1-score   support\n",
      "\n",
      "           0       0.79      0.90      0.84       990\n",
      "           1       0.61      0.39      0.48       390\n",
      "\n",
      "    accuracy                           0.76      1380\n",
      "   macro avg       0.70      0.65      0.66      1380\n",
      "weighted avg       0.74      0.76      0.74      1380\n",
      "\n"
     ]
    }
   ],
   "source": [
    "# classification report\n",
    "\n",
    "y_pred_rf = rf_gridcv.best_estimator_.predict(X_test)\n",
    "print(classification_report(y_test, y_pred_rf))"
   ]
  },
  {
   "cell_type": "markdown",
   "id": "dac746be",
   "metadata": {},
   "source": [
    "On the test data we got 0.39 for recall metric. It means that the model's reliability to detect churn is still low 39%. The probability of the model being incorrectly predicted not to churn even though the actual churn is still very high.\n",
    "\n",
    "The precision score is around 61%, it means that from all data that are predicted as churn, 61% that are really churn.\n",
    "\n",
    "The f1 score is 48% which is the harmonic mean of precision and recall. \n",
    "\n",
    "If we look at the accuracy value, it is certainly much better at around 76%, this figure is quite misleading, when in fact if we look at the confusion matrix, the model built has not been able to detect churn properly.\n",
    "\n",
    "Based on recall metric this model is even worse than KNN."
   ]
  },
  {
   "cell_type": "markdown",
   "id": "010b6e95",
   "metadata": {},
   "source": [
    "# Logistic Regression"
   ]
  },
  {
   "cell_type": "markdown",
   "id": "6bfa42bf",
   "metadata": {},
   "source": [
    "## Hyperparameter Tuning - LogReg"
   ]
  },
  {
   "cell_type": "code",
   "execution_count": 32,
   "id": "89d3f781",
   "metadata": {},
   "outputs": [],
   "source": [
    "# define logistic regression model\n",
    "\n",
    "lr = LogisticRegression(max_iter=10000, random_state=42)"
   ]
  },
  {
   "cell_type": "code",
   "execution_count": 33,
   "id": "7cc38449",
   "metadata": {
    "scrolled": false
   },
   "outputs": [
    {
     "data": {
      "text/html": [
       "<style>#sk-container-id-4 {color: black;background-color: white;}#sk-container-id-4 pre{padding: 0;}#sk-container-id-4 div.sk-toggleable {background-color: white;}#sk-container-id-4 label.sk-toggleable__label {cursor: pointer;display: block;width: 100%;margin-bottom: 0;padding: 0.3em;box-sizing: border-box;text-align: center;}#sk-container-id-4 label.sk-toggleable__label-arrow:before {content: \"▸\";float: left;margin-right: 0.25em;color: #696969;}#sk-container-id-4 label.sk-toggleable__label-arrow:hover:before {color: black;}#sk-container-id-4 div.sk-estimator:hover label.sk-toggleable__label-arrow:before {color: black;}#sk-container-id-4 div.sk-toggleable__content {max-height: 0;max-width: 0;overflow: hidden;text-align: left;background-color: #f0f8ff;}#sk-container-id-4 div.sk-toggleable__content pre {margin: 0.2em;color: black;border-radius: 0.25em;background-color: #f0f8ff;}#sk-container-id-4 input.sk-toggleable__control:checked~div.sk-toggleable__content {max-height: 200px;max-width: 100%;overflow: auto;}#sk-container-id-4 input.sk-toggleable__control:checked~label.sk-toggleable__label-arrow:before {content: \"▾\";}#sk-container-id-4 div.sk-estimator input.sk-toggleable__control:checked~label.sk-toggleable__label {background-color: #d4ebff;}#sk-container-id-4 div.sk-label input.sk-toggleable__control:checked~label.sk-toggleable__label {background-color: #d4ebff;}#sk-container-id-4 input.sk-hidden--visually {border: 0;clip: rect(1px 1px 1px 1px);clip: rect(1px, 1px, 1px, 1px);height: 1px;margin: -1px;overflow: hidden;padding: 0;position: absolute;width: 1px;}#sk-container-id-4 div.sk-estimator {font-family: monospace;background-color: #f0f8ff;border: 1px dotted black;border-radius: 0.25em;box-sizing: border-box;margin-bottom: 0.5em;}#sk-container-id-4 div.sk-estimator:hover {background-color: #d4ebff;}#sk-container-id-4 div.sk-parallel-item::after {content: \"\";width: 100%;border-bottom: 1px solid gray;flex-grow: 1;}#sk-container-id-4 div.sk-label:hover label.sk-toggleable__label {background-color: #d4ebff;}#sk-container-id-4 div.sk-serial::before {content: \"\";position: absolute;border-left: 1px solid gray;box-sizing: border-box;top: 0;bottom: 0;left: 50%;z-index: 0;}#sk-container-id-4 div.sk-serial {display: flex;flex-direction: column;align-items: center;background-color: white;padding-right: 0.2em;padding-left: 0.2em;position: relative;}#sk-container-id-4 div.sk-item {position: relative;z-index: 1;}#sk-container-id-4 div.sk-parallel {display: flex;align-items: stretch;justify-content: center;background-color: white;position: relative;}#sk-container-id-4 div.sk-item::before, #sk-container-id-4 div.sk-parallel-item::before {content: \"\";position: absolute;border-left: 1px solid gray;box-sizing: border-box;top: 0;bottom: 0;left: 50%;z-index: -1;}#sk-container-id-4 div.sk-parallel-item {display: flex;flex-direction: column;z-index: 1;position: relative;background-color: white;}#sk-container-id-4 div.sk-parallel-item:first-child::after {align-self: flex-end;width: 50%;}#sk-container-id-4 div.sk-parallel-item:last-child::after {align-self: flex-start;width: 50%;}#sk-container-id-4 div.sk-parallel-item:only-child::after {width: 0;}#sk-container-id-4 div.sk-dashed-wrapped {border: 1px dashed gray;margin: 0 0.4em 0.5em 0.4em;box-sizing: border-box;padding-bottom: 0.4em;background-color: white;}#sk-container-id-4 div.sk-label label {font-family: monospace;font-weight: bold;display: inline-block;line-height: 1.2em;}#sk-container-id-4 div.sk-label-container {text-align: center;}#sk-container-id-4 div.sk-container {/* jupyter's `normalize.less` sets `[hidden] { display: none; }` but bootstrap.min.css set `[hidden] { display: none !important; }` so we also need the `!important` here to be able to override the default hidden behavior on the sphinx rendered scikit-learn.org. See: https://github.com/scikit-learn/scikit-learn/issues/21755 */display: inline-block !important;position: relative;}#sk-container-id-4 div.sk-text-repr-fallback {display: none;}</style><div id=\"sk-container-id-4\" class=\"sk-top-container\"><div class=\"sk-text-repr-fallback\"><pre>GridSearchCV(cv=5,\n",
       "             estimator=LogisticRegression(max_iter=10000, random_state=42),\n",
       "             param_grid={&#x27;solver&#x27;: (&#x27;newton-cg&#x27;, &#x27;lbfgs&#x27;, &#x27;liblinear&#x27;)},\n",
       "             scoring=&#x27;recall&#x27;)</pre><b>In a Jupyter environment, please rerun this cell to show the HTML representation or trust the notebook. <br />On GitHub, the HTML representation is unable to render, please try loading this page with nbviewer.org.</b></div><div class=\"sk-container\" hidden><div class=\"sk-item sk-dashed-wrapped\"><div class=\"sk-label-container\"><div class=\"sk-label sk-toggleable\"><input class=\"sk-toggleable__control sk-hidden--visually\" id=\"sk-estimator-id-10\" type=\"checkbox\" ><label for=\"sk-estimator-id-10\" class=\"sk-toggleable__label sk-toggleable__label-arrow\">GridSearchCV</label><div class=\"sk-toggleable__content\"><pre>GridSearchCV(cv=5,\n",
       "             estimator=LogisticRegression(max_iter=10000, random_state=42),\n",
       "             param_grid={&#x27;solver&#x27;: (&#x27;newton-cg&#x27;, &#x27;lbfgs&#x27;, &#x27;liblinear&#x27;)},\n",
       "             scoring=&#x27;recall&#x27;)</pre></div></div></div><div class=\"sk-parallel\"><div class=\"sk-parallel-item\"><div class=\"sk-item\"><div class=\"sk-label-container\"><div class=\"sk-label sk-toggleable\"><input class=\"sk-toggleable__control sk-hidden--visually\" id=\"sk-estimator-id-11\" type=\"checkbox\" ><label for=\"sk-estimator-id-11\" class=\"sk-toggleable__label sk-toggleable__label-arrow\">estimator: LogisticRegression</label><div class=\"sk-toggleable__content\"><pre>LogisticRegression(max_iter=10000, random_state=42)</pre></div></div></div><div class=\"sk-serial\"><div class=\"sk-item\"><div class=\"sk-estimator sk-toggleable\"><input class=\"sk-toggleable__control sk-hidden--visually\" id=\"sk-estimator-id-12\" type=\"checkbox\" ><label for=\"sk-estimator-id-12\" class=\"sk-toggleable__label sk-toggleable__label-arrow\">LogisticRegression</label><div class=\"sk-toggleable__content\"><pre>LogisticRegression(max_iter=10000, random_state=42)</pre></div></div></div></div></div></div></div></div></div></div>"
      ],
      "text/plain": [
       "GridSearchCV(cv=5,\n",
       "             estimator=LogisticRegression(max_iter=10000, random_state=42),\n",
       "             param_grid={'solver': ('newton-cg', 'lbfgs', 'liblinear')},\n",
       "             scoring='recall')"
      ]
     },
     "execution_count": 33,
     "metadata": {},
     "output_type": "execute_result"
    }
   ],
   "source": [
    "# hyperparameter tuning\n",
    "\n",
    "params_lr = {\n",
    "    'solver' : ('newton-cg', 'lbfgs', 'liblinear')\n",
    "}\n",
    "\n",
    "# note: we use recall\n",
    "lr_gridcv = GridSearchCV(lr, params_lr, cv=5, scoring='recall')\n",
    "lr_gridcv.fit(X_train, y_train)"
   ]
  },
  {
   "cell_type": "code",
   "execution_count": 34,
   "id": "beb7cb75",
   "metadata": {},
   "outputs": [
    {
     "data": {
      "text/html": [
       "<div>\n",
       "<style scoped>\n",
       "    .dataframe tbody tr th:only-of-type {\n",
       "        vertical-align: middle;\n",
       "    }\n",
       "\n",
       "    .dataframe tbody tr th {\n",
       "        vertical-align: top;\n",
       "    }\n",
       "\n",
       "    .dataframe thead th {\n",
       "        text-align: right;\n",
       "    }\n",
       "</style>\n",
       "<table border=\"1\" class=\"dataframe\">\n",
       "  <thead>\n",
       "    <tr style=\"text-align: right;\">\n",
       "      <th></th>\n",
       "      <th>params</th>\n",
       "      <th>mean_test_score</th>\n",
       "      <th>rank_test_score</th>\n",
       "    </tr>\n",
       "  </thead>\n",
       "  <tbody>\n",
       "    <tr>\n",
       "      <th>0</th>\n",
       "      <td>{'solver': 'newton-cg'}</td>\n",
       "      <td>0.505226</td>\n",
       "      <td>1</td>\n",
       "    </tr>\n",
       "    <tr>\n",
       "      <th>1</th>\n",
       "      <td>{'solver': 'lbfgs'}</td>\n",
       "      <td>0.505226</td>\n",
       "      <td>2</td>\n",
       "    </tr>\n",
       "    <tr>\n",
       "      <th>2</th>\n",
       "      <td>{'solver': 'liblinear'}</td>\n",
       "      <td>0.504530</td>\n",
       "      <td>3</td>\n",
       "    </tr>\n",
       "  </tbody>\n",
       "</table>\n",
       "</div>"
      ],
      "text/plain": [
       "                    params  mean_test_score  rank_test_score\n",
       "0  {'solver': 'newton-cg'}         0.505226                1\n",
       "1      {'solver': 'lbfgs'}         0.505226                2\n",
       "2  {'solver': 'liblinear'}         0.504530                3"
      ]
     },
     "execution_count": 34,
     "metadata": {},
     "output_type": "execute_result"
    }
   ],
   "source": [
    "# the results\n",
    "cv_lr = pd.DataFrame(lr_gridcv.cv_results_)\n",
    "retain_cols = ['params','mean_test_score','rank_test_score']\n",
    "cv_lr[retain_cols].sort_values('rank_test_score')"
   ]
  },
  {
   "cell_type": "markdown",
   "id": "6b56b8d5",
   "metadata": {},
   "source": [
    "The best score for Logistic Regression is parameter with solver: newton-cg. And the score is only 0.50 (around 50%). It is still not good tho. Let's check the evaluation on the test data."
   ]
  },
  {
   "cell_type": "markdown",
   "id": "0c3af47b",
   "metadata": {},
   "source": [
    "## Evaluation on Test Data - Logreg"
   ]
  },
  {
   "cell_type": "code",
   "execution_count": 35,
   "id": "c4848dcc",
   "metadata": {},
   "outputs": [
    {
     "data": {
      "image/png": "[encoded data removed]",
      "text/plain": [
       "<Figure size 504x360 with 2 Axes>"
      ]
     },
     "metadata": {
      "needs_background": "light"
     },
     "output_type": "display_data"
    }
   ],
   "source": [
    "# plotting confusion matrix\n",
    "\n",
    "fig, ax = plt.subplots(figsize=(7,5))\n",
    "y_pred_lr = lr_gridcv.best_estimator_.predict(X_test)\n",
    "\n",
    "cm_lr = confusion_matrix(y_test, y_pred_lr, labels=lr_gridcv.best_estimator_.classes_)\n",
    "disp_lr = ConfusionMatrixDisplay(confusion_matrix=cm_lr,\n",
    "                             display_labels=lr_gridcv.best_estimator_.classes_)\n",
    "disp_lr.plot(ax=ax)\n",
    "plt.show()"
   ]
  },
  {
   "cell_type": "markdown",
   "id": "9a3b602b",
   "metadata": {},
   "source": [
    "From total 1380 test data, here is the prediction result that shown as a confusion matrix.\n",
    "- True Positive (TP) - Predicted 'Churn'; Actual 'Churn': 187 ppl\n",
    "- False Negative (FN) - Predicted 'Not Churn'; Actual 'Churn' : 203 ppl\n",
    "- False Positive (FP) - Predicted 'Churn'; Actual 'Not Churn' : 118 ppl\n",
    "- True Negative (TN) - Predicted 'Not Churn'; Actual 'Not Churn' : 872 ppl"
   ]
  },
  {
   "cell_type": "code",
   "execution_count": 36,
   "id": "0a5c01fa",
   "metadata": {},
   "outputs": [
    {
     "name": "stdout",
     "output_type": "stream",
     "text": [
      "              precision    recall  f1-score   support\n",
      "\n",
      "           0       0.81      0.88      0.84       990\n",
      "           1       0.61      0.48      0.54       390\n",
      "\n",
      "    accuracy                           0.77      1380\n",
      "   macro avg       0.71      0.68      0.69      1380\n",
      "weighted avg       0.76      0.77      0.76      1380\n",
      "\n"
     ]
    }
   ],
   "source": [
    "# classification report\n",
    "\n",
    "y_pred_lr = lr_gridcv.best_estimator_.predict(X_test)\n",
    "print(classification_report(y_test, y_pred_lr))"
   ]
  },
  {
   "cell_type": "markdown",
   "id": "c3d67a4e",
   "metadata": {},
   "source": [
    "On the test data we got 0.48 for recall metric. It means that the model's reliability to detect churn is still low 48%. The probability of the model being incorrectly predicted not to churn even though the actual churn is still very high.\n",
    "\n",
    "The precision score is around 61%, it means that from all data that are predicted as churn, 61% that are really churn.\n",
    "\n",
    "The f1 score is 54% which is the harmonic mean of precision and recall. \n",
    "\n",
    "If we look at the accuracy value, it is certainly much better at around 77%, this figure is quite misleading, when in fact if we look at the confusion matrix, the model built has not been able to detect churn properly.\n",
    "\n",
    "This model is still as not reliable as previous models."
   ]
  },
  {
   "cell_type": "markdown",
   "id": "1e3c0d52",
   "metadata": {},
   "source": [
    "# Decision Tree"
   ]
  },
  {
   "cell_type": "markdown",
   "id": "ecbc2345",
   "metadata": {},
   "source": [
    "## Hyperparameter Tuning - DT"
   ]
  },
  {
   "cell_type": "code",
   "execution_count": 37,
   "id": "477e806d",
   "metadata": {},
   "outputs": [],
   "source": [
    "# define decision tree model\n",
    "\n",
    "dt = DecisionTreeClassifier(random_state=42)"
   ]
  },
  {
   "cell_type": "code",
   "execution_count": 38,
   "id": "7ab0ab40",
   "metadata": {},
   "outputs": [
    {
     "data": {
      "text/html": [
       "<style>#sk-container-id-5 {color: black;background-color: white;}#sk-container-id-5 pre{padding: 0;}#sk-container-id-5 div.sk-toggleable {background-color: white;}#sk-container-id-5 label.sk-toggleable__label {cursor: pointer;display: block;width: 100%;margin-bottom: 0;padding: 0.3em;box-sizing: border-box;text-align: center;}#sk-container-id-5 label.sk-toggleable__label-arrow:before {content: \"▸\";float: left;margin-right: 0.25em;color: #696969;}#sk-container-id-5 label.sk-toggleable__label-arrow:hover:before {color: black;}#sk-container-id-5 div.sk-estimator:hover label.sk-toggleable__label-arrow:before {color: black;}#sk-container-id-5 div.sk-toggleable__content {max-height: 0;max-width: 0;overflow: hidden;text-align: left;background-color: #f0f8ff;}#sk-container-id-5 div.sk-toggleable__content pre {margin: 0.2em;color: black;border-radius: 0.25em;background-color: #f0f8ff;}#sk-container-id-5 input.sk-toggleable__control:checked~div.sk-toggleable__content {max-height: 200px;max-width: 100%;overflow: auto;}#sk-container-id-5 input.sk-toggleable__control:checked~label.sk-toggleable__label-arrow:before {content: \"▾\";}#sk-container-id-5 div.sk-estimator input.sk-toggleable__control:checked~label.sk-toggleable__label {background-color: #d4ebff;}#sk-container-id-5 div.sk-label input.sk-toggleable__control:checked~label.sk-toggleable__label {background-color: #d4ebff;}#sk-container-id-5 input.sk-hidden--visually {border: 0;clip: rect(1px 1px 1px 1px);clip: rect(1px, 1px, 1px, 1px);height: 1px;margin: -1px;overflow: hidden;padding: 0;position: absolute;width: 1px;}#sk-container-id-5 div.sk-estimator {font-family: monospace;background-color: #f0f8ff;border: 1px dotted black;border-radius: 0.25em;box-sizing: border-box;margin-bottom: 0.5em;}#sk-container-id-5 div.sk-estimator:hover {background-color: #d4ebff;}#sk-container-id-5 div.sk-parallel-item::after {content: \"\";width: 100%;border-bottom: 1px solid gray;flex-grow: 1;}#sk-container-id-5 div.sk-label:hover label.sk-toggleable__label {background-color: #d4ebff;}#sk-container-id-5 div.sk-serial::before {content: \"\";position: absolute;border-left: 1px solid gray;box-sizing: border-box;top: 0;bottom: 0;left: 50%;z-index: 0;}#sk-container-id-5 div.sk-serial {display: flex;flex-direction: column;align-items: center;background-color: white;padding-right: 0.2em;padding-left: 0.2em;position: relative;}#sk-container-id-5 div.sk-item {position: relative;z-index: 1;}#sk-container-id-5 div.sk-parallel {display: flex;align-items: stretch;justify-content: center;background-color: white;position: relative;}#sk-container-id-5 div.sk-item::before, #sk-container-id-5 div.sk-parallel-item::before {content: \"\";position: absolute;border-left: 1px solid gray;box-sizing: border-box;top: 0;bottom: 0;left: 50%;z-index: -1;}#sk-container-id-5 div.sk-parallel-item {display: flex;flex-direction: column;z-index: 1;position: relative;background-color: white;}#sk-container-id-5 div.sk-parallel-item:first-child::after {align-self: flex-end;width: 50%;}#sk-container-id-5 div.sk-parallel-item:last-child::after {align-self: flex-start;width: 50%;}#sk-container-id-5 div.sk-parallel-item:only-child::after {width: 0;}#sk-container-id-5 div.sk-dashed-wrapped {border: 1px dashed gray;margin: 0 0.4em 0.5em 0.4em;box-sizing: border-box;padding-bottom: 0.4em;background-color: white;}#sk-container-id-5 div.sk-label label {font-family: monospace;font-weight: bold;display: inline-block;line-height: 1.2em;}#sk-container-id-5 div.sk-label-container {text-align: center;}#sk-container-id-5 div.sk-container {/* jupyter's `normalize.less` sets `[hidden] { display: none; }` but bootstrap.min.css set `[hidden] { display: none !important; }` so we also need the `!important` here to be able to override the default hidden behavior on the sphinx rendered scikit-learn.org. See: https://github.com/scikit-learn/scikit-learn/issues/21755 */display: inline-block !important;position: relative;}#sk-container-id-5 div.sk-text-repr-fallback {display: none;}</style><div id=\"sk-container-id-5\" class=\"sk-top-container\"><div class=\"sk-text-repr-fallback\"><pre>GridSearchCV(cv=5, estimator=DecisionTreeClassifier(random_state=42),\n",
       "             param_grid={&#x27;criterion&#x27;: (&#x27;gini&#x27;, &#x27;entropy&#x27;, &#x27;log_loss&#x27;),\n",
       "                         &#x27;max_depth&#x27;: (2, 3, 5, 10, 20),\n",
       "                         &#x27;min_samples_leaf&#x27;: (5, 10, 20, 50, 100)},\n",
       "             scoring=&#x27;recall&#x27;)</pre><b>In a Jupyter environment, please rerun this cell to show the HTML representation or trust the notebook. <br />On GitHub, the HTML representation is unable to render, please try loading this page with nbviewer.org.</b></div><div class=\"sk-container\" hidden><div class=\"sk-item sk-dashed-wrapped\"><div class=\"sk-label-container\"><div class=\"sk-label sk-toggleable\"><input class=\"sk-toggleable__control sk-hidden--visually\" id=\"sk-estimator-id-13\" type=\"checkbox\" ><label for=\"sk-estimator-id-13\" class=\"sk-toggleable__label sk-toggleable__label-arrow\">GridSearchCV</label><div class=\"sk-toggleable__content\"><pre>GridSearchCV(cv=5, estimator=DecisionTreeClassifier(random_state=42),\n",
       "             param_grid={&#x27;criterion&#x27;: (&#x27;gini&#x27;, &#x27;entropy&#x27;, &#x27;log_loss&#x27;),\n",
       "                         &#x27;max_depth&#x27;: (2, 3, 5, 10, 20),\n",
       "                         &#x27;min_samples_leaf&#x27;: (5, 10, 20, 50, 100)},\n",
       "             scoring=&#x27;recall&#x27;)</pre></div></div></div><div class=\"sk-parallel\"><div class=\"sk-parallel-item\"><div class=\"sk-item\"><div class=\"sk-label-container\"><div class=\"sk-label sk-toggleable\"><input class=\"sk-toggleable__control sk-hidden--visually\" id=\"sk-estimator-id-14\" type=\"checkbox\" ><label for=\"sk-estimator-id-14\" class=\"sk-toggleable__label sk-toggleable__label-arrow\">estimator: DecisionTreeClassifier</label><div class=\"sk-toggleable__content\"><pre>DecisionTreeClassifier(random_state=42)</pre></div></div></div><div class=\"sk-serial\"><div class=\"sk-item\"><div class=\"sk-estimator sk-toggleable\"><input class=\"sk-toggleable__control sk-hidden--visually\" id=\"sk-estimator-id-15\" type=\"checkbox\" ><label for=\"sk-estimator-id-15\" class=\"sk-toggleable__label sk-toggleable__label-arrow\">DecisionTreeClassifier</label><div class=\"sk-toggleable__content\"><pre>DecisionTreeClassifier(random_state=42)</pre></div></div></div></div></div></div></div></div></div></div>"
      ],
      "text/plain": [
       "GridSearchCV(cv=5, estimator=DecisionTreeClassifier(random_state=42),\n",
       "             param_grid={'criterion': ('gini', 'entropy', 'log_loss'),\n",
       "                         'max_depth': (2, 3, 5, 10, 20),\n",
       "                         'min_samples_leaf': (5, 10, 20, 50, 100)},\n",
       "             scoring='recall')"
      ]
     },
     "execution_count": 38,
     "metadata": {},
     "output_type": "execute_result"
    }
   ],
   "source": [
    "# hyperparameter tuning\n",
    "\n",
    "params_dt = {\n",
    "    'max_depth': (2, 3, 5, 10, 20),\n",
    "    'min_samples_leaf': (5, 10, 20, 50, 100),\n",
    "    'criterion': ('gini', 'entropy','log_loss')\n",
    "}\n",
    "\n",
    "# note: we use recall\n",
    "dt_gridcv = GridSearchCV(dt, params_dt, cv=5, scoring='recall')\n",
    "dt_gridcv.fit(X_train, y_train)"
   ]
  },
  {
   "cell_type": "code",
   "execution_count": 39,
   "id": "be6282c0",
   "metadata": {},
   "outputs": [
    {
     "data": {
      "text/html": [
       "<div>\n",
       "<style scoped>\n",
       "    .dataframe tbody tr th:only-of-type {\n",
       "        vertical-align: middle;\n",
       "    }\n",
       "\n",
       "    .dataframe tbody tr th {\n",
       "        vertical-align: top;\n",
       "    }\n",
       "\n",
       "    .dataframe thead th {\n",
       "        text-align: right;\n",
       "    }\n",
       "</style>\n",
       "<table border=\"1\" class=\"dataframe\">\n",
       "  <thead>\n",
       "    <tr style=\"text-align: right;\">\n",
       "      <th></th>\n",
       "      <th>params</th>\n",
       "      <th>mean_test_score</th>\n",
       "      <th>rank_test_score</th>\n",
       "    </tr>\n",
       "  </thead>\n",
       "  <tbody>\n",
       "    <tr>\n",
       "      <th>0</th>\n",
       "      <td>{'criterion': 'gini', 'max_depth': 2, 'min_sam...</td>\n",
       "      <td>0.627875</td>\n",
       "      <td>1</td>\n",
       "    </tr>\n",
       "    <tr>\n",
       "      <th>27</th>\n",
       "      <td>{'criterion': 'entropy', 'max_depth': 2, 'min_...</td>\n",
       "      <td>0.627875</td>\n",
       "      <td>1</td>\n",
       "    </tr>\n",
       "    <tr>\n",
       "      <th>28</th>\n",
       "      <td>{'criterion': 'entropy', 'max_depth': 2, 'min_...</td>\n",
       "      <td>0.627875</td>\n",
       "      <td>1</td>\n",
       "    </tr>\n",
       "    <tr>\n",
       "      <th>29</th>\n",
       "      <td>{'criterion': 'entropy', 'max_depth': 2, 'min_...</td>\n",
       "      <td>0.627875</td>\n",
       "      <td>1</td>\n",
       "    </tr>\n",
       "    <tr>\n",
       "      <th>50</th>\n",
       "      <td>{'criterion': 'log_loss', 'max_depth': 2, 'min...</td>\n",
       "      <td>0.627875</td>\n",
       "      <td>1</td>\n",
       "    </tr>\n",
       "    <tr>\n",
       "      <th>...</th>\n",
       "      <td>...</td>\n",
       "      <td>...</td>\n",
       "      <td>...</td>\n",
       "    </tr>\n",
       "    <tr>\n",
       "      <th>57</th>\n",
       "      <td>{'criterion': 'log_loss', 'max_depth': 3, 'min...</td>\n",
       "      <td>0.377003</td>\n",
       "      <td>61</td>\n",
       "    </tr>\n",
       "    <tr>\n",
       "      <th>56</th>\n",
       "      <td>{'criterion': 'log_loss', 'max_depth': 3, 'min...</td>\n",
       "      <td>0.377003</td>\n",
       "      <td>61</td>\n",
       "    </tr>\n",
       "    <tr>\n",
       "      <th>55</th>\n",
       "      <td>{'criterion': 'log_loss', 'max_depth': 3, 'min...</td>\n",
       "      <td>0.377003</td>\n",
       "      <td>61</td>\n",
       "    </tr>\n",
       "    <tr>\n",
       "      <th>32</th>\n",
       "      <td>{'criterion': 'entropy', 'max_depth': 3, 'min_...</td>\n",
       "      <td>0.377003</td>\n",
       "      <td>61</td>\n",
       "    </tr>\n",
       "    <tr>\n",
       "      <th>58</th>\n",
       "      <td>{'criterion': 'log_loss', 'max_depth': 3, 'min...</td>\n",
       "      <td>0.377003</td>\n",
       "      <td>61</td>\n",
       "    </tr>\n",
       "  </tbody>\n",
       "</table>\n",
       "<p>75 rows × 3 columns</p>\n",
       "</div>"
      ],
      "text/plain": [
       "                                               params  mean_test_score  \\\n",
       "0   {'criterion': 'gini', 'max_depth': 2, 'min_sam...         0.627875   \n",
       "27  {'criterion': 'entropy', 'max_depth': 2, 'min_...         0.627875   \n",
       "28  {'criterion': 'entropy', 'max_depth': 2, 'min_...         0.627875   \n",
       "29  {'criterion': 'entropy', 'max_depth': 2, 'min_...         0.627875   \n",
       "50  {'criterion': 'log_loss', 'max_depth': 2, 'min...         0.627875   \n",
       "..                                                ...              ...   \n",
       "57  {'criterion': 'log_loss', 'max_depth': 3, 'min...         0.377003   \n",
       "56  {'criterion': 'log_loss', 'max_depth': 3, 'min...         0.377003   \n",
       "55  {'criterion': 'log_loss', 'max_depth': 3, 'min...         0.377003   \n",
       "32  {'criterion': 'entropy', 'max_depth': 3, 'min_...         0.377003   \n",
       "58  {'criterion': 'log_loss', 'max_depth': 3, 'min...         0.377003   \n",
       "\n",
       "    rank_test_score  \n",
       "0                 1  \n",
       "27                1  \n",
       "28                1  \n",
       "29                1  \n",
       "50                1  \n",
       "..              ...  \n",
       "57               61  \n",
       "56               61  \n",
       "55               61  \n",
       "32               61  \n",
       "58               61  \n",
       "\n",
       "[75 rows x 3 columns]"
      ]
     },
     "execution_count": 39,
     "metadata": {},
     "output_type": "execute_result"
    }
   ],
   "source": [
    "# the results\n",
    "cv_dt = pd.DataFrame(dt_gridcv.cv_results_)\n",
    "retain_cols = ['params','mean_test_score','rank_test_score']\n",
    "cv_dt[retain_cols].sort_values('rank_test_score')"
   ]
  },
  {
   "cell_type": "code",
   "execution_count": 40,
   "id": "2ecf8658",
   "metadata": {},
   "outputs": [
    {
     "data": {
      "text/plain": [
       "{'criterion': 'gini', 'max_depth': 2, 'min_samples_leaf': 5}"
      ]
     },
     "execution_count": 40,
     "metadata": {},
     "output_type": "execute_result"
    }
   ],
   "source": [
    "cv_dt['params'][0]"
   ]
  },
  {
   "cell_type": "markdown",
   "id": "fa55e580",
   "metadata": {},
   "source": [
    "The best score for Decision Tree is parameter with criterion: gini, max_depth: 2, min_samples_leaf: 5. And the score is 0.63 (around 63%). It is better than previous model. Let's check the evaluation on the test data."
   ]
  },
  {
   "cell_type": "markdown",
   "id": "852648e2",
   "metadata": {},
   "source": [
    "## Evaluation on Test Data - DT"
   ]
  },
  {
   "cell_type": "code",
   "execution_count": 41,
   "id": "0ebb47aa",
   "metadata": {},
   "outputs": [
    {
     "data": {
      "image/png": "[encoded data removed]",
      "text/plain": [
       "<Figure size 504x360 with 2 Axes>"
      ]
     },
     "metadata": {
      "needs_background": "light"
     },
     "output_type": "display_data"
    }
   ],
   "source": [
    "# plotting confusion matrix\n",
    "\n",
    "fig, ax = plt.subplots(figsize=(7,5))\n",
    "y_pred_dt = dt_gridcv.best_estimator_.predict(X_test)\n",
    "\n",
    "cm_dt = confusion_matrix(y_test, y_pred_dt, labels=dt_gridcv.best_estimator_.classes_)\n",
    "disp_dt = ConfusionMatrixDisplay(confusion_matrix=cm_dt,\n",
    "                             display_labels=dt_gridcv.best_estimator_.classes_)\n",
    "disp_dt.plot(ax=ax)\n",
    "plt.show()"
   ]
  },
  {
   "cell_type": "markdown",
   "id": "a4169297",
   "metadata": {},
   "source": [
    "From total 1380 test data, here is the prediction result that shown as a confusion matrix.\n",
    "- True Positive (TP) - Predicted 'Churn'; Actual 'Churn': 232 ppl\n",
    "- False Negative (FN) - Predicted 'Not Churn'; Actual 'Churn' : 158 ppl\n",
    "- False Positive (FP) - Predicted 'Churn'; Actual 'Not Churn' : 222 ppl\n",
    "- True Negative (TN) - Predicted 'Not Churn'; Actual 'Not Churn' : 768 ppl"
   ]
  },
  {
   "cell_type": "code",
   "execution_count": 42,
   "id": "af6ecdfc",
   "metadata": {},
   "outputs": [
    {
     "name": "stdout",
     "output_type": "stream",
     "text": [
      "              precision    recall  f1-score   support\n",
      "\n",
      "           0       0.83      0.78      0.80       990\n",
      "           1       0.51      0.59      0.55       390\n",
      "\n",
      "    accuracy                           0.72      1380\n",
      "   macro avg       0.67      0.69      0.68      1380\n",
      "weighted avg       0.74      0.72      0.73      1380\n",
      "\n"
     ]
    }
   ],
   "source": [
    "# classification report\n",
    "\n",
    "y_pred_dt = dt_gridcv.best_estimator_.predict(X_test)\n",
    "print(classification_report(y_test, y_pred_dt))"
   ]
  },
  {
   "cell_type": "markdown",
   "id": "16da2077",
   "metadata": {},
   "source": [
    "On the test data we got 0.59 for recall metric. It means that the model's reliability to detect churn is 59%. It is better than previous model but actually the probability of the model being incorrectly predicted not to churn even though the actual churn is still consider as high.\n",
    "\n",
    "The precision score is around 51%, it means that from all data that are predicted as churn, 51% that are really churn.\n",
    "\n",
    "The f1 score is 55% which is the harmonic mean of precision and recall. \n",
    "\n",
    "If we look at the accuracy value, it is certainly much better at around 72%, this figure is quite misleading, when in fact if we look at the confusion matrix, the model built has not been able to detect churn properly.\n",
    "\n",
    "Based on recall metric this model is better than previous models but still consider as not reliable to detect churn."
   ]
  },
  {
   "cell_type": "markdown",
   "id": "cdaa82cb",
   "metadata": {},
   "source": [
    "# Naive Bayes"
   ]
  },
  {
   "cell_type": "markdown",
   "id": "d78fd365",
   "metadata": {},
   "source": [
    "## Hyperparameter Tuning - NB"
   ]
  },
  {
   "cell_type": "code",
   "execution_count": 43,
   "id": "cd7cac1b",
   "metadata": {},
   "outputs": [],
   "source": [
    "# define decision tree model\n",
    "\n",
    "nb = GaussianNB()"
   ]
  },
  {
   "cell_type": "code",
   "execution_count": 44,
   "id": "4da68dec",
   "metadata": {},
   "outputs": [
    {
     "data": {
      "text/html": [
       "<style>#sk-container-id-6 {color: black;background-color: white;}#sk-container-id-6 pre{padding: 0;}#sk-container-id-6 div.sk-toggleable {background-color: white;}#sk-container-id-6 label.sk-toggleable__label {cursor: pointer;display: block;width: 100%;margin-bottom: 0;padding: 0.3em;box-sizing: border-box;text-align: center;}#sk-container-id-6 label.sk-toggleable__label-arrow:before {content: \"▸\";float: left;margin-right: 0.25em;color: #696969;}#sk-container-id-6 label.sk-toggleable__label-arrow:hover:before {color: black;}#sk-container-id-6 div.sk-estimator:hover label.sk-toggleable__label-arrow:before {color: black;}#sk-container-id-6 div.sk-toggleable__content {max-height: 0;max-width: 0;overflow: hidden;text-align: left;background-color: #f0f8ff;}#sk-container-id-6 div.sk-toggleable__content pre {margin: 0.2em;color: black;border-radius: 0.25em;background-color: #f0f8ff;}#sk-container-id-6 input.sk-toggleable__control:checked~div.sk-toggleable__content {max-height: 200px;max-width: 100%;overflow: auto;}#sk-container-id-6 input.sk-toggleable__control:checked~label.sk-toggleable__label-arrow:before {content: \"▾\";}#sk-container-id-6 div.sk-estimator input.sk-toggleable__control:checked~label.sk-toggleable__label {background-color: #d4ebff;}#sk-container-id-6 div.sk-label input.sk-toggleable__control:checked~label.sk-toggleable__label {background-color: #d4ebff;}#sk-container-id-6 input.sk-hidden--visually {border: 0;clip: rect(1px 1px 1px 1px);clip: rect(1px, 1px, 1px, 1px);height: 1px;margin: -1px;overflow: hidden;padding: 0;position: absolute;width: 1px;}#sk-container-id-6 div.sk-estimator {font-family: monospace;background-color: #f0f8ff;border: 1px dotted black;border-radius: 0.25em;box-sizing: border-box;margin-bottom: 0.5em;}#sk-container-id-6 div.sk-estimator:hover {background-color: #d4ebff;}#sk-container-id-6 div.sk-parallel-item::after {content: \"\";width: 100%;border-bottom: 1px solid gray;flex-grow: 1;}#sk-container-id-6 div.sk-label:hover label.sk-toggleable__label {background-color: #d4ebff;}#sk-container-id-6 div.sk-serial::before {content: \"\";position: absolute;border-left: 1px solid gray;box-sizing: border-box;top: 0;bottom: 0;left: 50%;z-index: 0;}#sk-container-id-6 div.sk-serial {display: flex;flex-direction: column;align-items: center;background-color: white;padding-right: 0.2em;padding-left: 0.2em;position: relative;}#sk-container-id-6 div.sk-item {position: relative;z-index: 1;}#sk-container-id-6 div.sk-parallel {display: flex;align-items: stretch;justify-content: center;background-color: white;position: relative;}#sk-container-id-6 div.sk-item::before, #sk-container-id-6 div.sk-parallel-item::before {content: \"\";position: absolute;border-left: 1px solid gray;box-sizing: border-box;top: 0;bottom: 0;left: 50%;z-index: -1;}#sk-container-id-6 div.sk-parallel-item {display: flex;flex-direction: column;z-index: 1;position: relative;background-color: white;}#sk-container-id-6 div.sk-parallel-item:first-child::after {align-self: flex-end;width: 50%;}#sk-container-id-6 div.sk-parallel-item:last-child::after {align-self: flex-start;width: 50%;}#sk-container-id-6 div.sk-parallel-item:only-child::after {width: 0;}#sk-container-id-6 div.sk-dashed-wrapped {border: 1px dashed gray;margin: 0 0.4em 0.5em 0.4em;box-sizing: border-box;padding-bottom: 0.4em;background-color: white;}#sk-container-id-6 div.sk-label label {font-family: monospace;font-weight: bold;display: inline-block;line-height: 1.2em;}#sk-container-id-6 div.sk-label-container {text-align: center;}#sk-container-id-6 div.sk-container {/* jupyter's `normalize.less` sets `[hidden] { display: none; }` but bootstrap.min.css set `[hidden] { display: none !important; }` so we also need the `!important` here to be able to override the default hidden behavior on the sphinx rendered scikit-learn.org. See: https://github.com/scikit-learn/scikit-learn/issues/21755 */display: inline-block !important;position: relative;}#sk-container-id-6 div.sk-text-repr-fallback {display: none;}</style><div id=\"sk-container-id-6\" class=\"sk-top-container\"><div class=\"sk-text-repr-fallback\"><pre>GridSearchCV(cv=5, estimator=GaussianNB(),\n",
       "             param_grid={&#x27;var_smoothing&#x27;: array([1.00000000e+00, 8.11130831e-01, 6.57933225e-01, 5.33669923e-01,\n",
       "       4.32876128e-01, 3.51119173e-01, 2.84803587e-01, 2.31012970e-01,\n",
       "       1.87381742e-01, 1.51991108e-01, 1.23284674e-01, 1.00000000e-01,\n",
       "       8.11130831e-02, 6.57933225e-02, 5.33669923e-02, 4.32876128e-02,\n",
       "       3.51119173e-02, 2.84803587e-02, 2.31...\n",
       "       1.23284674e-07, 1.00000000e-07, 8.11130831e-08, 6.57933225e-08,\n",
       "       5.33669923e-08, 4.32876128e-08, 3.51119173e-08, 2.84803587e-08,\n",
       "       2.31012970e-08, 1.87381742e-08, 1.51991108e-08, 1.23284674e-08,\n",
       "       1.00000000e-08, 8.11130831e-09, 6.57933225e-09, 5.33669923e-09,\n",
       "       4.32876128e-09, 3.51119173e-09, 2.84803587e-09, 2.31012970e-09,\n",
       "       1.87381742e-09, 1.51991108e-09, 1.23284674e-09, 1.00000000e-09])},\n",
       "             scoring=&#x27;recall&#x27;)</pre><b>In a Jupyter environment, please rerun this cell to show the HTML representation or trust the notebook. <br />On GitHub, the HTML representation is unable to render, please try loading this page with nbviewer.org.</b></div><div class=\"sk-container\" hidden><div class=\"sk-item sk-dashed-wrapped\"><div class=\"sk-label-container\"><div class=\"sk-label sk-toggleable\"><input class=\"sk-toggleable__control sk-hidden--visually\" id=\"sk-estimator-id-16\" type=\"checkbox\" ><label for=\"sk-estimator-id-16\" class=\"sk-toggleable__label sk-toggleable__label-arrow\">GridSearchCV</label><div class=\"sk-toggleable__content\"><pre>GridSearchCV(cv=5, estimator=GaussianNB(),\n",
       "             param_grid={&#x27;var_smoothing&#x27;: array([1.00000000e+00, 8.11130831e-01, 6.57933225e-01, 5.33669923e-01,\n",
       "       4.32876128e-01, 3.51119173e-01, 2.84803587e-01, 2.31012970e-01,\n",
       "       1.87381742e-01, 1.51991108e-01, 1.23284674e-01, 1.00000000e-01,\n",
       "       8.11130831e-02, 6.57933225e-02, 5.33669923e-02, 4.32876128e-02,\n",
       "       3.51119173e-02, 2.84803587e-02, 2.31...\n",
       "       1.23284674e-07, 1.00000000e-07, 8.11130831e-08, 6.57933225e-08,\n",
       "       5.33669923e-08, 4.32876128e-08, 3.51119173e-08, 2.84803587e-08,\n",
       "       2.31012970e-08, 1.87381742e-08, 1.51991108e-08, 1.23284674e-08,\n",
       "       1.00000000e-08, 8.11130831e-09, 6.57933225e-09, 5.33669923e-09,\n",
       "       4.32876128e-09, 3.51119173e-09, 2.84803587e-09, 2.31012970e-09,\n",
       "       1.87381742e-09, 1.51991108e-09, 1.23284674e-09, 1.00000000e-09])},\n",
       "             scoring=&#x27;recall&#x27;)</pre></div></div></div><div class=\"sk-parallel\"><div class=\"sk-parallel-item\"><div class=\"sk-item\"><div class=\"sk-label-container\"><div class=\"sk-label sk-toggleable\"><input class=\"sk-toggleable__control sk-hidden--visually\" id=\"sk-estimator-id-17\" type=\"checkbox\" ><label for=\"sk-estimator-id-17\" class=\"sk-toggleable__label sk-toggleable__label-arrow\">estimator: GaussianNB</label><div class=\"sk-toggleable__content\"><pre>GaussianNB()</pre></div></div></div><div class=\"sk-serial\"><div class=\"sk-item\"><div class=\"sk-estimator sk-toggleable\"><input class=\"sk-toggleable__control sk-hidden--visually\" id=\"sk-estimator-id-18\" type=\"checkbox\" ><label for=\"sk-estimator-id-18\" class=\"sk-toggleable__label sk-toggleable__label-arrow\">GaussianNB</label><div class=\"sk-toggleable__content\"><pre>GaussianNB()</pre></div></div></div></div></div></div></div></div></div></div>"
      ],
      "text/plain": [
       "GridSearchCV(cv=5, estimator=GaussianNB(),\n",
       "             param_grid={'var_smoothing': array([1.00000000e+00, 8.11130831e-01, 6.57933225e-01, 5.33669923e-01,\n",
       "       4.32876128e-01, 3.51119173e-01, 2.84803587e-01, 2.31012970e-01,\n",
       "       1.87381742e-01, 1.51991108e-01, 1.23284674e-01, 1.00000000e-01,\n",
       "       8.11130831e-02, 6.57933225e-02, 5.33669923e-02, 4.32876128e-02,\n",
       "       3.51119173e-02, 2.84803587e-02, 2.31...\n",
       "       1.23284674e-07, 1.00000000e-07, 8.11130831e-08, 6.57933225e-08,\n",
       "       5.33669923e-08, 4.32876128e-08, 3.51119173e-08, 2.84803587e-08,\n",
       "       2.31012970e-08, 1.87381742e-08, 1.51991108e-08, 1.23284674e-08,\n",
       "       1.00000000e-08, 8.11130831e-09, 6.57933225e-09, 5.33669923e-09,\n",
       "       4.32876128e-09, 3.51119173e-09, 2.84803587e-09, 2.31012970e-09,\n",
       "       1.87381742e-09, 1.51991108e-09, 1.23284674e-09, 1.00000000e-09])},\n",
       "             scoring='recall')"
      ]
     },
     "execution_count": 44,
     "metadata": {},
     "output_type": "execute_result"
    }
   ],
   "source": [
    "# hyperparameter tuning\n",
    "\n",
    "params_nb = {\n",
    "    'var_smoothing': np.logspace(0,-9, num=100)\n",
    "}\n",
    "\n",
    "# note: we use recall\n",
    "nb_gridcv = GridSearchCV(nb, params_nb, cv=5, scoring='recall')\n",
    "nb_gridcv.fit(X_train, y_train)"
   ]
  },
  {
   "cell_type": "code",
   "execution_count": 45,
   "id": "1d330aef",
   "metadata": {},
   "outputs": [
    {
     "data": {
      "text/html": [
       "<div>\n",
       "<style scoped>\n",
       "    .dataframe tbody tr th:only-of-type {\n",
       "        vertical-align: middle;\n",
       "    }\n",
       "\n",
       "    .dataframe tbody tr th {\n",
       "        vertical-align: top;\n",
       "    }\n",
       "\n",
       "    .dataframe thead th {\n",
       "        text-align: right;\n",
       "    }\n",
       "</style>\n",
       "<table border=\"1\" class=\"dataframe\">\n",
       "  <thead>\n",
       "    <tr style=\"text-align: right;\">\n",
       "      <th></th>\n",
       "      <th>params</th>\n",
       "      <th>mean_test_score</th>\n",
       "      <th>rank_test_score</th>\n",
       "    </tr>\n",
       "  </thead>\n",
       "  <tbody>\n",
       "    <tr>\n",
       "      <th>99</th>\n",
       "      <td>{'var_smoothing': 1e-09}</td>\n",
       "      <td>0.806969</td>\n",
       "      <td>1</td>\n",
       "    </tr>\n",
       "    <tr>\n",
       "      <th>78</th>\n",
       "      <td>{'var_smoothing': 8.111308307896873e-08}</td>\n",
       "      <td>0.806969</td>\n",
       "      <td>1</td>\n",
       "    </tr>\n",
       "    <tr>\n",
       "      <th>77</th>\n",
       "      <td>{'var_smoothing': 1e-07}</td>\n",
       "      <td>0.806969</td>\n",
       "      <td>1</td>\n",
       "    </tr>\n",
       "    <tr>\n",
       "      <th>76</th>\n",
       "      <td>{'var_smoothing': 1.232846739442066e-07}</td>\n",
       "      <td>0.806969</td>\n",
       "      <td>1</td>\n",
       "    </tr>\n",
       "    <tr>\n",
       "      <th>75</th>\n",
       "      <td>{'var_smoothing': 1.519911082952933e-07}</td>\n",
       "      <td>0.806969</td>\n",
       "      <td>1</td>\n",
       "    </tr>\n",
       "    <tr>\n",
       "      <th>...</th>\n",
       "      <td>...</td>\n",
       "      <td>...</td>\n",
       "      <td>...</td>\n",
       "    </tr>\n",
       "    <tr>\n",
       "      <th>4</th>\n",
       "      <td>{'var_smoothing': 0.43287612810830584}</td>\n",
       "      <td>0.000000</td>\n",
       "      <td>96</td>\n",
       "    </tr>\n",
       "    <tr>\n",
       "      <th>3</th>\n",
       "      <td>{'var_smoothing': 0.533669923120631}</td>\n",
       "      <td>0.000000</td>\n",
       "      <td>96</td>\n",
       "    </tr>\n",
       "    <tr>\n",
       "      <th>2</th>\n",
       "      <td>{'var_smoothing': 0.657933224657568}</td>\n",
       "      <td>0.000000</td>\n",
       "      <td>96</td>\n",
       "    </tr>\n",
       "    <tr>\n",
       "      <th>1</th>\n",
       "      <td>{'var_smoothing': 0.8111308307896871}</td>\n",
       "      <td>0.000000</td>\n",
       "      <td>96</td>\n",
       "    </tr>\n",
       "    <tr>\n",
       "      <th>0</th>\n",
       "      <td>{'var_smoothing': 1.0}</td>\n",
       "      <td>0.000000</td>\n",
       "      <td>96</td>\n",
       "    </tr>\n",
       "  </tbody>\n",
       "</table>\n",
       "<p>100 rows × 3 columns</p>\n",
       "</div>"
      ],
      "text/plain": [
       "                                      params  mean_test_score  rank_test_score\n",
       "99                  {'var_smoothing': 1e-09}         0.806969                1\n",
       "78  {'var_smoothing': 8.111308307896873e-08}         0.806969                1\n",
       "77                  {'var_smoothing': 1e-07}         0.806969                1\n",
       "76  {'var_smoothing': 1.232846739442066e-07}         0.806969                1\n",
       "75  {'var_smoothing': 1.519911082952933e-07}         0.806969                1\n",
       "..                                       ...              ...              ...\n",
       "4     {'var_smoothing': 0.43287612810830584}         0.000000               96\n",
       "3       {'var_smoothing': 0.533669923120631}         0.000000               96\n",
       "2       {'var_smoothing': 0.657933224657568}         0.000000               96\n",
       "1      {'var_smoothing': 0.8111308307896871}         0.000000               96\n",
       "0                     {'var_smoothing': 1.0}         0.000000               96\n",
       "\n",
       "[100 rows x 3 columns]"
      ]
     },
     "execution_count": 45,
     "metadata": {},
     "output_type": "execute_result"
    }
   ],
   "source": [
    "# the results\n",
    "cv_nb = pd.DataFrame(nb_gridcv.cv_results_)\n",
    "retain_cols = ['params','mean_test_score','rank_test_score']\n",
    "cv_nb[retain_cols].sort_values('rank_test_score')"
   ]
  },
  {
   "cell_type": "markdown",
   "id": "b5ab4786",
   "metadata": {},
   "source": [
    "The best score for Naive Bayes is parameter with var_smoothing: 1e-09. And the score is 0.80 (around 80%). It is much better than previous model. Let's check the evaluation on the test data."
   ]
  },
  {
   "cell_type": "markdown",
   "id": "12ef5d23",
   "metadata": {},
   "source": [
    "## Evaluation on Test Data - NB"
   ]
  },
  {
   "cell_type": "code",
   "execution_count": 46,
   "id": "bc5ce3c5",
   "metadata": {},
   "outputs": [
    {
     "data": {
      "image/png": "[encoded data removed]",
      "text/plain": [
       "<Figure size 504x360 with 2 Axes>"
      ]
     },
     "metadata": {
      "needs_background": "light"
     },
     "output_type": "display_data"
    }
   ],
   "source": [
    "# plotting confusion matrix\n",
    "\n",
    "fig, ax = plt.subplots(figsize=(7,5))\n",
    "y_pred_nb = nb_gridcv.best_estimator_.predict(X_test)\n",
    "\n",
    "cm_nb = confusion_matrix(y_test, y_pred_nb, labels=nb_gridcv.best_estimator_.classes_)\n",
    "disp_nb = ConfusionMatrixDisplay(confusion_matrix=cm_nb,\n",
    "                             display_labels=nb_gridcv.best_estimator_.classes_)\n",
    "disp_nb.plot(ax=ax)\n",
    "plt.show()"
   ]
  },
  {
   "cell_type": "markdown",
   "id": "55264356",
   "metadata": {},
   "source": [
    "From total 1380 test data, here is the prediction result that shown as a confusion matrix.\n",
    "- True Positive (TP) - Predicted 'Churn'; Actual 'Churn': 317 ppl\n",
    "- False Negative (FN) - Predicted 'Not Churn'; Actual 'Churn' : 73 ppl\n",
    "- False Positive (FP) - Predicted 'Churn'; Actual 'Not Churn' : 333 ppl\n",
    "- True Negative (TN) - Predicted 'Not Churn'; Actual 'Not Churn' : 657 ppl"
   ]
  },
  {
   "cell_type": "code",
   "execution_count": 47,
   "id": "90af61f3",
   "metadata": {},
   "outputs": [
    {
     "name": "stdout",
     "output_type": "stream",
     "text": [
      "              precision    recall  f1-score   support\n",
      "\n",
      "           0       0.90      0.66      0.76       990\n",
      "           1       0.49      0.81      0.61       390\n",
      "\n",
      "    accuracy                           0.71      1380\n",
      "   macro avg       0.69      0.74      0.69      1380\n",
      "weighted avg       0.78      0.71      0.72      1380\n",
      "\n"
     ]
    }
   ],
   "source": [
    "# classification report\n",
    "\n",
    "y_pred_nb = nb_gridcv.best_estimator_.predict(X_test)\n",
    "print(classification_report(y_test, y_pred_nb))"
   ]
  },
  {
   "cell_type": "markdown",
   "id": "9ba21c4f",
   "metadata": {},
   "source": [
    "On the test data we got 0.81 for recall metric. It means that the model's reliability to detect churn is 81%. It is much better than previous models.\n",
    "\n",
    "The precision score is around 49%, it means that from all data that are predicted as churn, 49% that are really churn.\n",
    "\n",
    "The f1 score is 61% which is the harmonic mean of precision and recall. \n",
    "\n",
    "If we look at the accuracy value, it is certainly much better at around 71%, this figure is quite misleading, when in fact if we look at the confusion matrix, it shows different meaning/understanding.\n",
    "\n",
    "Based on recall metric this model is much better than previous models to detect churn.\n",
    "\n",
    "Although the precision score is consider as low, but recall metric is much more important."
   ]
  },
  {
   "cell_type": "markdown",
   "id": "3507fa78",
   "metadata": {},
   "source": [
    "# Support Vector Machines (SVM)"
   ]
  },
  {
   "cell_type": "markdown",
   "id": "de87f00f",
   "metadata": {},
   "source": [
    "## Hyperparameter Tuning - SVM"
   ]
  },
  {
   "cell_type": "code",
   "execution_count": 48,
   "id": "c5748f69",
   "metadata": {},
   "outputs": [],
   "source": [
    "# define decision tree model\n",
    "#from sklearn.svm import SVC\n",
    "\n",
    "#svm = SVC(random_state = 42)"
   ]
  },
  {
   "cell_type": "code",
   "execution_count": 49,
   "id": "6a696bc6",
   "metadata": {
    "scrolled": false
   },
   "outputs": [],
   "source": [
    "#from sklearn.model_selection import GridSearchCV\n",
    "\n",
    "#parameters = {\n",
    "#    'kernel' : ('linear', 'poly', 'rbf', 'sigmoid'),\n",
    "#    'C' : (50, 10, 1.0, 0.1, 0.01),\n",
    "#    'gamma' : ('scale', 'auto')\n",
    "#}\n",
    "\n",
    "# note: we use recall\n",
    "#svm_gridcv = GridSearchCV(svm, parameters, cv=5, scoring='recall')\n",
    "#svm_gridcv.fit(X_train, y_train)"
   ]
  },
  {
   "cell_type": "markdown",
   "id": "1c88e18a",
   "metadata": {},
   "source": [
    "## Evaluation on Test Data - SVM"
   ]
  },
  {
   "cell_type": "code",
   "execution_count": 50,
   "id": "5a0c7cba",
   "metadata": {},
   "outputs": [],
   "source": [
    "# berat....laptop gak kuat"
   ]
  },
  {
   "cell_type": "markdown",
   "id": "5204b937",
   "metadata": {},
   "source": [
    "# Conclusion"
   ]
  },
  {
   "cell_type": "markdown",
   "id": "a60a03c9",
   "metadata": {},
   "source": [
    "The following are conclusions that can be drawn from this project.\n",
    "\n",
    "- The feature selection process was carried out using a heatmap correlation plot, and it was found that there were two highly correlated features, namely `Tenure` and `TotalCharges`. After comparing the value with the target, the `TotalCharges` feature is dropped.\n",
    "- The dataset that we are using is imbalanced data where the target variable is Churn with 'Yes' value of 1825 and 'No' value of 5073. So for evaluation and also scoring selection in hyperparameter tuning, the confusion matrix will be used.\n",
    "- In the case of customer churn, scoring metric that is used for hyperparameter tuning is **sensitivity / recall**, because the occurrence of false negatives is very much wanted to be avoided (a big risk for the company).\n",
    "- In this project, we compare the results of hyperparameter tuning of 5 classification algorithms, namely KNN, Random Forest, Logistic Regression, Decision Tree and Naive Bayes.\n",
    "- If you compare the results of the evaluation on the test data with metric recall, the values for each model are as follows:\n",
    "    - KNN 0.48\n",
    "    - Random Forest 0.39\n",
    "    - Logreg 0.48\n",
    "    - Decision Tree 0.59\n",
    "    - Naive Bayes 0.81\n",
    "- Based on the results of the metric recall evaluation on the points above, the **Naive Bayes** model is the most reliable model for detecting churn."
   ]
  }
 ],
 "metadata": {
  "kernelspec": {
   "display_name": "Python 3 (ipykernel)",
   "language": "python",
   "name": "python3"
  },
  "language_info": {
   "codemirror_mode": {
    "name": "ipython",
    "version": 3
   },
   "file_extension": ".py",
   "mimetype": "text/x-python",
   "name": "python",
   "nbconvert_exporter": "python",
   "pygments_lexer": "ipython3",
   "version": "3.9.12"
  },
  "toc": {
   "base_numbering": 1,
   "nav_menu": {},
   "number_sections": true,
   "sideBar": true,
   "skip_h1_title": false,
   "title_cell": "Table of Contents",
   "title_sidebar": "Contents",
   "toc_cell": false,
   "toc_position": {
    "height": "calc(100% - 180px)",
    "left": "10px",
    "top": "150px",
    "width": "341.297px"
   },
   "toc_section_display": true,
   "toc_window_display": true
  }
 },
 "nbformat": 4,
 "nbformat_minor": 5
}
